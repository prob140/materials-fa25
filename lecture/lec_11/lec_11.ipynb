{
 "cells": [
  {
   "cell_type": "code",
   "execution_count": 6,
   "id": "ff3880cc-4ad5-4a9b-9e12-4f13024fca1e",
   "metadata": {},
   "outputs": [
    {
     "ename": "ModuleNotFoundError",
     "evalue": "No module named 'datascience'",
     "output_type": "error",
     "traceback": [
      "\u001b[1;31m---------------------------------------------------------------------------\u001b[0m",
      "\u001b[1;31mModuleNotFoundError\u001b[0m                       Traceback (most recent call last)",
      "Cell \u001b[1;32mIn[6], line 8\u001b[0m\n\u001b[0;32m      5\u001b[0m plt\u001b[38;5;241m.\u001b[39mstyle\u001b[38;5;241m.\u001b[39muse(\u001b[38;5;124m'\u001b[39m\u001b[38;5;124mfivethirtyeight\u001b[39m\u001b[38;5;124m'\u001b[39m)\n\u001b[0;32m      6\u001b[0m get_ipython()\u001b[38;5;241m.\u001b[39mrun_line_magic(\u001b[38;5;124m'\u001b[39m\u001b[38;5;124mmatplotlib\u001b[39m\u001b[38;5;124m'\u001b[39m, \u001b[38;5;124m'\u001b[39m\u001b[38;5;124minline\u001b[39m\u001b[38;5;124m'\u001b[39m)\n\u001b[1;32m----> 8\u001b[0m \u001b[38;5;28;01mfrom\u001b[39;00m \u001b[38;5;21;01mdatascience\u001b[39;00m \u001b[38;5;28;01mimport\u001b[39;00m \u001b[38;5;241m*\u001b[39m\n\u001b[0;32m      9\u001b[0m \u001b[38;5;28;01mfrom\u001b[39;00m \u001b[38;5;21;01mprob140\u001b[39;00m \u001b[38;5;28;01mimport\u001b[39;00m \u001b[38;5;241m*\u001b[39m\n",
      "\u001b[1;31mModuleNotFoundError\u001b[0m: No module named 'datascience'"
     ]
    }
   ],
   "source": [
    "import warnings\n",
    "warnings.filterwarnings('ignore')\n",
    "import numpy as np\n",
    "import matplotlib.pyplot as plt\n",
    "plt.style.use('fivethirtyeight')\n",
    "%matplotlib inline\n",
    "\n",
    "from datascience import *\n",
    "from prob140 import *"
   ]
  },
  {
   "cell_type": "code",
   "execution_count": 2,
   "id": "693a0745-7999-4945-8971-77a5f1c538a8",
   "metadata": {},
   "outputs": [],
   "source": [
    "# alphabet a, d, t\n",
    "# encoded string: atdt"
   ]
  },
  {
   "cell_type": "code",
   "execution_count": 4,
   "id": "9b0151cf-b6c2-4b0b-933e-e232ebf1b233",
   "metadata": {},
   "outputs": [
    {
     "ename": "NameError",
     "evalue": "name 'decoding' is not defined",
     "output_type": "error",
     "traceback": [
      "\u001b[1;31m---------------------------------------------------------------------------\u001b[0m",
      "\u001b[1;31mNameError\u001b[0m                                 Traceback (most recent call last)",
      "Cell \u001b[1;32mIn[4], line 1\u001b[0m\n\u001b[1;32m----> 1\u001b[0m \u001b[43mdecoding\u001b[49m\n",
      "\u001b[1;31mNameError\u001b[0m: name 'decoding' is not defined"
     ]
    }
   ],
   "source": [
    "decoding"
   ]
  },
  {
   "cell_type": "code",
   "execution_count": null,
   "id": "58b09404-ac52-4ae1-a725-2bda3cc16f7a",
   "metadata": {},
   "outputs": [],
   "source": []
  },
  {
   "cell_type": "code",
   "execution_count": null,
   "id": "850dec71-3a1b-4959-921b-7e1e7acb560b",
   "metadata": {},
   "outputs": [],
   "source": []
  },
  {
   "cell_type": "code",
   "execution_count": null,
   "id": "cb40bdde-eab3-469c-a899-99ce322f720a",
   "metadata": {},
   "outputs": [],
   "source": []
  },
  {
   "cell_type": "code",
   "execution_count": null,
   "id": "6d021d5c-8ecb-4554-a1ad-bfa491f7887c",
   "metadata": {},
   "outputs": [],
   "source": []
  },
  {
   "cell_type": "code",
   "execution_count": null,
   "id": "0ead0e99-38fa-4bc7-a046-ed5a5c0b1a76",
   "metadata": {},
   "outputs": [],
   "source": []
  },
  {
   "cell_type": "code",
   "execution_count": null,
   "id": "eb7f663e-bfc6-428a-b53f-98c1e7b5427a",
   "metadata": {},
   "outputs": [],
   "source": []
  },
  {
   "cell_type": "code",
   "execution_count": null,
   "id": "138b8c3e-98eb-4e21-bc14-34ed62290287",
   "metadata": {},
   "outputs": [],
   "source": []
  },
  {
   "cell_type": "code",
   "execution_count": null,
   "id": "f7d0e8bc-bd06-4b01-adad-ae80c8818447",
   "metadata": {},
   "outputs": [],
   "source": [
    "# Transition Matrix\n",
    "bigrams"
   ]
  },
  {
   "cell_type": "code",
   "execution_count": null,
   "id": "e3ea2063-0cf6-4558-9281-b1cfbf361d19",
   "metadata": {},
   "outputs": [],
   "source": []
  },
  {
   "cell_type": "code",
   "execution_count": null,
   "id": "db880e96-304c-47a3-8ec2-17736dabe8be",
   "metadata": {},
   "outputs": [],
   "source": []
  },
  {
   "cell_type": "code",
   "execution_count": null,
   "id": "f3b5fce7-9fe8-4197-91f8-afe74e7e8f36",
   "metadata": {},
   "outputs": [],
   "source": []
  },
  {
   "cell_type": "code",
   "execution_count": null,
   "id": "98118d91-d754-479c-a2e7-bd6687082c65",
   "metadata": {},
   "outputs": [],
   "source": []
  },
  {
   "cell_type": "code",
   "execution_count": null,
   "id": "b5c0a7ce",
   "metadata": {},
   "outputs": [],
   "source": []
  },
  {
   "cell_type": "code",
   "execution_count": null,
   "id": "0bca163c",
   "metadata": {},
   "outputs": [],
   "source": []
  },
  {
   "cell_type": "code",
   "execution_count": null,
   "id": "6f556043",
   "metadata": {},
   "outputs": [],
   "source": [
    "# alphabet: a, d, t\n",
    "# encoded string: atdt"
   ]
  },
  {
   "cell_type": "code",
   "execution_count": null,
   "id": "79e8e76c",
   "metadata": {},
   "outputs": [],
   "source": [
    "# Permutation Codes\n",
    "decoding"
   ]
  },
  {
   "cell_type": "code",
   "execution_count": null,
   "id": "9a997e1a",
   "metadata": {},
   "outputs": [],
   "source": [
    "# Transition Matrix\n",
    "bigrams"
   ]
  },
  {
   "cell_type": "code",
   "execution_count": null,
   "id": "8cbcd266",
   "metadata": {},
   "outputs": [],
   "source": [
    "# score of a decoder (permutation) is the probability it assigns to observed paths (the encoded string)\n",
    "# score of 'tada' is P(t->a) * P(a->d) * P(d->t) = P(t,a)*P(a,d)*P(d,t) \n",
    "# score of 'tada' is bigrams.prob_of_path('t', ['a','d','a'])\n",
    "0.653477*0.219458*0.570995"
   ]
  },
  {
   "cell_type": "code",
   "execution_count": null,
   "id": "91e4670f",
   "metadata": {},
   "outputs": [],
   "source": [
    "# Probability of a path\n",
    "bigrams.prob_of_path('t',['a','d','a'])"
   ]
  },
  {
   "cell_type": "code",
   "execution_count": null,
   "id": "7a2eaa92",
   "metadata": {},
   "outputs": [],
   "source": []
  },
  {
   "cell_type": "code",
   "execution_count": null,
   "id": "4efeba35",
   "metadata": {},
   "outputs": [],
   "source": []
  },
  {
   "cell_type": "code",
   "execution_count": null,
   "id": "6ffac67a",
   "metadata": {},
   "outputs": [],
   "source": []
  },
  {
   "cell_type": "code",
   "execution_count": null,
   "id": "0d051a17",
   "metadata": {},
   "outputs": [],
   "source": []
  },
  {
   "cell_type": "code",
   "execution_count": null,
   "id": "2e2ce68c",
   "metadata": {},
   "outputs": [],
   "source": []
  },
  {
   "cell_type": "code",
   "execution_count": null,
   "id": "61f82b4e",
   "metadata": {},
   "outputs": [],
   "source": []
  },
  {
   "cell_type": "code",
   "execution_count": null,
   "id": "b76f6676",
   "metadata": {},
   "outputs": [],
   "source": []
  },
  {
   "cell_type": "code",
   "execution_count": null,
   "id": "1ca4bad7",
   "metadata": {},
   "outputs": [],
   "source": []
  },
  {
   "cell_type": "code",
   "execution_count": null,
   "id": "e543644f",
   "metadata": {},
   "outputs": [],
   "source": [
    "def score(x):\n",
    "    \"\"\"Returns the score \n",
    "    of the decoded string x\"\"\"\"\"\n",
    "    return bigrams.prob_of_path(x[0], x[1:])"
   ]
  },
  {
   "cell_type": "code",
   "execution_count": null,
   "id": "d12f9240",
   "metadata": {},
   "outputs": [],
   "source": []
  },
  {
   "cell_type": "code",
   "execution_count": null,
   "id": "fb97eda4",
   "metadata": {},
   "outputs": [],
   "source": []
  },
  {
   "cell_type": "code",
   "execution_count": null,
   "id": "8718bcf2",
   "metadata": {},
   "outputs": [],
   "source": [
    "decoding = decoding.with_column('Score of Decoder', decoding.apply(score, 1))\n",
    "decoding.sort('Score of Decoder', descending=True)"
   ]
  },
  {
   "cell_type": "code",
   "execution_count": null,
   "id": "7334150e",
   "metadata": {},
   "outputs": [],
   "source": []
  },
  {
   "cell_type": "code",
   "execution_count": null,
   "id": "e3115667",
   "metadata": {},
   "outputs": [],
   "source": []
  },
  {
   "cell_type": "code",
   "execution_count": null,
   "id": "bd07a0e5",
   "metadata": {},
   "outputs": [],
   "source": []
  },
  {
   "cell_type": "code",
   "execution_count": null,
   "id": "a958efd6",
   "metadata": {},
   "outputs": [],
   "source": []
  },
  {
   "cell_type": "code",
   "execution_count": null,
   "id": "6dbecc79",
   "metadata": {},
   "outputs": [],
   "source": [
    "int(special.factorial(26))"
   ]
  }
 ],
 "metadata": {
  "kernelspec": {
   "display_name": "Python 3 (ipykernel)",
   "language": "python",
   "name": "python3"
  },
  "language_info": {
   "codemirror_mode": {
    "name": "ipython",
    "version": 3
   },
   "file_extension": ".py",
   "mimetype": "text/x-python",
   "name": "python",
   "nbconvert_exporter": "python",
   "pygments_lexer": "ipython3",
   "version": "3.10.9"
  }
 },
 "nbformat": 4,
 "nbformat_minor": 5
}
