{
 "cells": [
  {
   "cell_type": "code",
   "execution_count": null,
   "id": "570aab49-6df6-4790-b515-3d19553d236a",
   "metadata": {},
   "outputs": [],
   "source": [
    "# to run with datascience and prob140 libraries use: http://prob140.datahub.berkeley.edu/hub/user-redirect/git-pull?repo=https://github.com/prob140/materials-fa25&branch=main&subPath=lecture/lec_15/lec_15.ipynb\n",
    "\n",
    "\n",
    "# HIDDEN\n",
    "import warnings\n",
    "warnings.filterwarnings('ignore')\n",
    "from datascience import *\n",
    "from prob140 import *\n",
    "import numpy as np\n",
    "import matplotlib.pyplot as plt\n",
    "plt.style.use('fivethirtyeight')\n",
    "%matplotlib inline\n",
    "from scipy import stats\n",
    "\n",
    "# HIDDEN\n",
    "import warnings\n",
    "warnings.filterwarnings('ignore')\n",
    "from datascience import *\n",
    "from prob140 import *\n",
    "import numpy as np\n",
    "import matplotlib.pyplot as plt\n",
    "plt.style.use('fivethirtyeight')\n",
    "%matplotlib inline\n",
    "from scipy import stats\n",
    "from myst_nb import glue\n",
    "import warnings\n",
    "warnings.filterwarnings(\"ignore\")"
   ]
  },
  {
   "cell_type": "code",
   "execution_count": null,
   "id": "ad8592ef-3b24-4b07-bbe0-1fadbd25d13a",
   "metadata": {},
   "outputs": [],
   "source": []
  },
  {
   "cell_type": "code",
   "execution_count": null,
   "id": "8fe9535d-daa5-4d8b-9e09-901835e3709b",
   "metadata": {},
   "outputs": [],
   "source": []
  },
  {
   "cell_type": "code",
   "execution_count": null,
   "id": "99f787f2-9fa3-4cec-b80a-1c8e83251f31",
   "metadata": {},
   "outputs": [],
   "source": []
  },
  {
   "cell_type": "code",
   "execution_count": null,
   "id": "64f9f3e0-6da1-4cfd-8ee2-d80e7fd17eca",
   "metadata": {},
   "outputs": [],
   "source": []
  },
  {
   "cell_type": "code",
   "execution_count": null,
   "id": "86322a46-2946-4923-957e-b2ed5e452c2f",
   "metadata": {},
   "outputs": [],
   "source": [
    "def density_f(x):\n",
    "    6*x*(1 - x)"
   ]
  },
  {
   "cell_type": "code",
   "execution_count": null,
   "id": "34b95656-df49-47f7-aea2-f6302a754dc1",
   "metadata": {},
   "outputs": [],
   "source": [
    "Plot.continuous([0, 1], density_f)\n",
    "plt.xlabel('$x$')\n",
    "plt.ylabel('$f_X(x)$')\n",
    "plt.title('Density $f)"
   ]
  }
 ],
 "metadata": {
  "kernelspec": {
   "display_name": "Python 3 (ipykernel)",
   "language": "python",
   "name": "python3"
  },
  "language_info": {
   "codemirror_mode": {
    "name": "ipython",
    "version": 3
   },
   "file_extension": ".py",
   "mimetype": "text/x-python",
   "name": "python",
   "nbconvert_exporter": "python",
   "pygments_lexer": "ipython3",
   "version": "3.10.9"
  }
 },
 "nbformat": 4,
 "nbformat_minor": 5
}
