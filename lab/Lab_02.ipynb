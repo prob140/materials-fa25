{
 "cells": [
  {
   "cell_type": "markdown",
   "metadata": {
    "#question": false,
    "#solution": false,
    "#staff": false,
    "#student": false
   },
   "source": [
    "<table align=\"left\" style=\"border-style: hidden\" class=\"table\"> <tr><td class=\"col-md-2\"><img style=\"float: left; width: 200px; height: 200px;\" src=\"../logo.png\" alt=\"Data 140 Logo\" style=\"width: 120px;\"/></td><td><div align=\"left\"><h3 style=\"margin-top: 0;\">Probability for Data Science</h3><h4 style=\"margin-top: 20px;\">UC Berkeley, Fall 2025</h4><p>Alexander Strang</p>CC BY-NC-SA 4.0</div></td></tr></table><!-- not in pdf -->\n",
    "\n",
    "This content is protected and may not be shared, uploaded, or distributed."
   ]
  },
  {
   "cell_type": "code",
   "execution_count": null,
   "metadata": {
    "#question": false,
    "#solution": false,
    "#staff": false,
    "#student": false
   },
   "outputs": [],
   "source": [
    "# SETUP\n",
    "# The main libraries\n",
    "import numpy as np\n",
    "from datascience import *\n",
    "from prob140 import *\n",
    "\n",
    "# These lines do some fancy plotting magic\n",
    "import matplotlib\n",
    "%matplotlib inline\n",
    "import matplotlib.pyplot as plt\n",
    "plt.style.use('fivethirtyeight')"
   ]
  },
  {
   "cell_type": "markdown",
   "metadata": {
    "#question": false,
    "#solution": false,
    "#staff": false,
    "#student": false,
    "tags": []
   },
   "source": [
    "# Lab 2: Right Tails and Sample Minima (Due Monday, September 8th at 5PM)\n",
    "\n",
    "\n",
    "### Right Hand Tails\n",
    "\n",
    "To find the distribution of a discrete random variable $X$, you need $P(X = x)$ for each possible value $x$. For some random variables, finding this probability is made easier by first finding a related probability such as $P(X \\leq x)$ or $P(X > x)$.\n",
    "\n",
    "The *cumulative distribution function* or *cdf* of $X$ is the function $F$ given by\n",
    "\n",
    "$$\n",
    "F(x) ~ = ~ P(X \\le x) ~~~~~~~ \\text{for all } x\n",
    "$$\n",
    "\n",
    "The *right hand tail* probability at $x$, denoted $S(x)$ below, is the probability of the complementary event:\n",
    "\n",
    "$$\n",
    "S(x) ~ = ~ P(X > x) ~ = ~ 1 - P(X \\le x)\n",
    "$$\n",
    "\n",
    "Though you can calculate $S$ from $F$ and vice versa, in some situations one of them is much easier to think about than the other. This lab is about a random variable for which the right hand tail is the simplest way to start. \n",
    "\n",
    "Here is a visualization of a right hand tail probability of a random variable $X$ that has a distribution on the integers $0$ through $7$. The gold area is the cdf at $x = 4$, and the blue area is the right tail at $x = 4$.\n",
    "\n",
    "<img src=\"lab2_fig.png\" width=\"360\" height=\"360\">"
   ]
  },
  {
   "cell_type": "markdown",
   "metadata": {
    "#question": false,
    "#solution": false,
    "#staff": false,
    "#student": false
   },
   "source": [
    "### The Sample Minimum\n",
    "\n",
    "For random variables $X_1, X_2, \\ldots, X_n$, the random variable $M = \\min\\{X_1, X_2, \\ldots, X_n\\}$ is called the *minimum* of the $n$ variables. If you think of $X_1, X_2, \\ldots, X_n$ as a random sample, then $M$ is the *sample minimum*.\n",
    "\n",
    "Data scientists are often interested in extrema (minima and maxima) of samples, for example when they are interested in the tails of an underlying population distribution, or worst-case scenarios for the sizes of errors, and so on.\n",
    "\n",
    "Right hand tail probabilities provide the most straightforward path to finding the distributions of many random variables. Sample minima are a primary example of such variables. \n",
    "\n",
    "What you will learn in this lab:\n",
    "- How to find the distribution of a sample minimum by creating a complete list of the outcome space, in an example where the outcome space is small enough for this to be feasible.\n",
    "- How to spot errors in a common but flawed *combinatoric* or \"counting\" argument for finding the distribution of a sample minimum.\n",
    "- The best way to find the distribution of any sample minimum, by starting with the right hand tails."
   ]
  },
  {
   "cell_type": "markdown",
   "metadata": {
    "#question": false,
    "#solution": false,
    "#staff": false,
    "#student": false
   },
   "source": [
    "### Useful Methods\n",
    "\n",
    "It's still early in the semester, so here is some helpful code as a refresher. Please consult the one-page [**code reference sheet**](http://prob140.org/assets/references/final_reference_code_fa18.pdf) in [Resources](http://prob140.org/resources/) if you need a reminder of the syntax.\n",
    "\n",
    "For this lab you will need some or all of:\n",
    "- Array operations and NumPy functions including `item`, `diff`, `append`, and `cumsum`\n",
    "- Defining functions: `def`\n",
    "- Iteration: `for` (or any other Python method for iteration)\n",
    "- `Table` methods from the `datascience` [library](https://www.data8.org/datascience/tables.html):\n",
    "    - Creation: `with_columns`\n",
    "    - Accessing and using values as inputs to a function: `apply`\n",
    "- Distribution methods from the `prob140` [library](http://prob140.org/prob140/), operating on `Table()`:\n",
    "    - Specifying the possible values: `values`\n",
    "    - Specifying the probabilities: `probabilities` or `probability_function`\n",
    "- Visualization methods from the `prob140` library:\n",
    "    - Probability histogram of an integer-valued random variable: `Plot`\n",
    "    - Events: `event`\n",
    "    - Overlaid probability histograms of two integer-valued random variables: `Plots`"
   ]
  },
  {
   "cell_type": "markdown",
   "metadata": {
    "#question": false,
    "#solution": false,
    "#staff": false,
    "#student": false
   },
   "source": [
    "## Identify Your Lab Partner"
   ]
  },
  {
   "cell_type": "markdown",
   "metadata": {
    "#question": false,
    "#solution": false,
    "#staff": false,
    "#student": false
   },
   "source": [
    "This is a multiple choice question. Please select **ONE** of following options that best describes how you complete Lab 1.\n",
    "\n",
    "- I am doing this lab by myself and I don't have a partner.\n",
    "- My partner for this lab is [PARTNER'S NAME] with email [berkeley.edu email address]. [SUBMITTER'S NAME] will submit to Gradescope and add the other partner to the group on Gradescope after submission.\n",
    "\n",
    "Please copy and paste **ONE** of above statements and fill in blanks if needed. If you work with a partner, make sure only one of you submit on Gradescope and that the other member of the group is added to the submission on Gradescope. Refer to the bottom of the notebook for submission instructions."
   ]
  },
  {
   "cell_type": "markdown",
   "metadata": {
    "#question": false,
    "#solution": false,
    "#staff": false,
    "#student": true
   },
   "source": [
    "\n",
    "**Type your answer in this cell.**"
   ]
  },
  {
   "cell_type": "markdown",
   "metadata": {
    "#question": false,
    "#solution": false,
    "#staff": false,
    "#student": false
   },
   "source": [
    "\\newpage"
   ]
  },
  {
   "cell_type": "markdown",
   "metadata": {
    "#question": false,
    "#solution": false,
    "#staff": false,
    "#student": false
   },
   "source": [
    "## Section 1: Complete Enumeration ##\n",
    "\n",
    "If the sample consists of a small number of draws from a small population, and all the samples are equally likely, then we can find the distribution of the sample minimum by simply listing all the samples, finding the minimum of each one, and counting how many outcomes have the same minimum value.\n",
    "\n",
    "This method is intractable and cumbersome in almost all situations of interest to data scientists. But it offers us a way to double-check more abstract methods. After we develop a more abstract method, we can apply it in a setting with a small sample and small population, and check that its results agree with the results we get by complete enumeration. You will do that later in this lab.\n",
    "\n",
    "In this section you will use complete enumeration to find the distribution of the minimum number of spots you see on 7 rolls of a die. We will call this random variable $M$.\n",
    "\n",
    "The code will closely follow the code used to find the distribution of the sum of 5 rolls of a die in [Section 3.1](http://prob140.org/textbook/content/Chapter_03/01_Functions_on_an_Outcome_Space.html) and [Section 3.2](http://prob140.org/textbook/content/Chapter_03/02_Distributions.html) of the textbook. **Please have the textbook at hand.**"
   ]
  },
  {
   "cell_type": "markdown",
   "metadata": {
    "#question": false,
    "#solution": false,
    "#staff": false,
    "#student": false
   },
   "source": [
    "### 1a) The Outcome Space and the Random Variable\n",
    "Start by constructing the space of all possible outcomes of 7 rolls of a die, and augmenting it with the probability of each outcome as well as the value of $M$ for each outcome.\n",
    "\n",
    "As in Section 3.1, we have some importing to do. Run the cell below. "
   ]
  },
  {
   "cell_type": "code",
   "execution_count": null,
   "metadata": {
    "#question": false,
    "#solution": false,
    "#staff": false,
    "#student": false
   },
   "outputs": [],
   "source": [
    "from itertools import product"
   ]
  },
  {
   "cell_type": "markdown",
   "metadata": {
    "#question": false,
    "#solution": false,
    "#staff": false,
    "#student": false
   },
   "source": [
    "What is the total number of outcomes of 7 rolls of a die? Enter the answer as a numerical expression in the cell below."
   ]
  },
  {
   "cell_type": "code",
   "execution_count": null,
   "metadata": {
    "#question": false,
    "#solution": false,
    "#staff": false,
    "#student": true
   },
   "outputs": [],
   "source": [
    "..."
   ]
  },
  {
   "cell_type": "markdown",
   "metadata": {
    "#question": false,
    "#solution": false,
    "#staff": false,
    "#student": false
   },
   "source": [
    "That's a lot of outcomes, but a `datascience` table can hold them all. Complete the cell below to create a table `seven_rolls_space` that has three columns in the following sequence.\n",
    "- `omega`: The outcomes of 7 rolls of a die\n",
    "- `M(omega)`: The minimum value in each outcome\n",
    "- `P(omega)`: The probability of each outcome\n",
    "\n",
    "Enter expressions (not multiple lines) to fill in the blanks in the cell below. They should be the appropriate modifications of corresponding expressions in Section 3.1."
   ]
  },
  {
   "cell_type": "code",
   "execution_count": null,
   "metadata": {
    "#question": false,
    "#solution": false,
    "#staff": false,
    "#student": true
   },
   "outputs": [],
   "source": [
    "die = np.arange(1, 7) # array of numbers of spots on the faces of the die\n",
    "\n",
    "seven_rolls = ...  # All possible outcomes of 7 rolls\n",
    "\n",
    "seven_rolls_probs = ...  # Array of the chances of the above outcomes\n",
    "\n",
    "# Create a table with outcomes and their probabilities\n",
    "seven_rolls_space = Table().with_columns(\n",
    "   'omega', seven_rolls,\n",
    "    'P(omega)', seven_rolls_probs\n",
    ")\n",
    "\n",
    "# Add a column M(omega) that contains the minimum of each outcome omega\n",
    "# and put the columns in the specified order\n",
    "seven_rolls_min = seven_rolls_space.with_columns(\n",
    "    'M(omega)', ...\n",
    ").move_to_end('P(omega)')\n",
    "\n",
    "\n",
    "seven_rolls_min"
   ]
  },
  {
   "cell_type": "markdown",
   "metadata": {
    "#question": false,
    "#solution": false,
    "#staff": false,
    "#student": false
   },
   "source": [
    "### 1b) The Distribution of the Minimum\n",
    "Fill in the blanks in the cell below to create the distribution object `dist_M`. This is a table that contains the distribution of $M$. It has two columns:\n",
    "- `Value`: The possible values of $M$\n",
    "- `Probability`: The probabilities of those values"
   ]
  },
  {
   "cell_type": "code",
   "execution_count": null,
   "metadata": {
    "#question": false,
    "#solution": false,
    "#staff": false,
    "#student": true
   },
   "outputs": [],
   "source": [
    "dist_M = seven_rolls_min.drop('omega')...\n",
    "dist_M = dist_M.relabeled(0, 'Value').relabeled(1, 'Probability')\n",
    "dist_M"
   ]
  },
  {
   "cell_type": "markdown",
   "metadata": {
    "#question": false,
    "#solution": false,
    "#staff": false,
    "#student": false
   },
   "source": [
    "Add all the probabilities to confirm that you have a distribution."
   ]
  },
  {
   "cell_type": "code",
   "execution_count": null,
   "metadata": {
    "#question": false,
    "#solution": false,
    "#staff": false,
    "#student": true
   },
   "outputs": [],
   "source": [
    "..."
   ]
  },
  {
   "cell_type": "markdown",
   "metadata": {
    "#question": false,
    "#solution": false,
    "#staff": false,
    "#student": false
   },
   "source": [
    "If you computed the distribution correctly, one of your results should be that $P(M = 2)$ is just over $0.22$. We will refer to this result in a later Section.\n",
    "\n",
    "Run the cell below to visualize the distribution. Notice that is bunched towards the left end of the possible values. This is typical for distributions of sample minima, since the variable is the smallest value observed in the sample."
   ]
  },
  {
   "cell_type": "code",
   "execution_count": null,
   "metadata": {
    "#question": false,
    "#solution": false,
    "#staff": false,
    "#student": false
   },
   "outputs": [],
   "source": [
    "Plot(dist_M)\n",
    "plt.title('Minimum of 7 Rolls of a Die');"
   ]
  },
  {
   "cell_type": "markdown",
   "metadata": {
    "#question": false,
    "#solution": false,
    "#staff": false,
    "#student": false
   },
   "source": [
    "\\newpage"
   ]
  },
  {
   "cell_type": "markdown",
   "metadata": {
    "#question": false,
    "#solution": false,
    "#staff": false,
    "#student": false
   },
   "source": [
    "## Section 2: An Approach that is Tempting but <span style=\"color: #FF0000\">Wrong</span>\n",
    "\n",
    "There is a common *wrong* approach to finding the distribution of a sample minimum. It is so tempting and plausible at first glance that it is worth examining how it fails.\n",
    "\n",
    "We will apply it to try to find the distribution of $M$, the minimum of 7 rolls of a die. You know what this distribution should be because you found it in Section 1."
   ]
  },
  {
   "cell_type": "markdown",
   "metadata": {
    "#question": false,
    "#solution": false,
    "#staff": false,
    "#student": false
   },
   "source": [
    "### 2a) Identifying the Error\n",
    "\n",
    "Here are the steps of this proposed approach, being used for finding $P(M = 2)$.\n",
    "\n",
    "- **Step 1**: Somewhere among the 7 rolls there must be one that shows 2 spots. Each single roll shows 2 spots with chance 1/6.\n",
    "- **Step 2**: Since the minimum has to be 2, each of the other 6 rolls must show 2 or more spots. For each roll, the chance of this is 5/6.\n",
    "- **Step 3**: $P(M = 2)$ is the sum: P(Roll 1 shows 2 and all the others show 2 or more) + P(Roll 2 shows 2 and all the others show 2 or more) + ... + P(Roll 7 shows 2 and all the others show 2 or more) $ = 7 \\cdot (1/6) \\cdot (5/6)^6 $\n",
    "\n",
    "Something is clearly wrong with this, since in Part **1b** you found $P(M = 2) \\approx 0.22$ whereas:"
   ]
  },
  {
   "cell_type": "code",
   "execution_count": null,
   "metadata": {
    "#question": false,
    "#solution": false,
    "#staff": false,
    "#student": false
   },
   "outputs": [],
   "source": [
    "7 * (1/6) * ( (5/6) ** 6 )"
   ]
  },
  {
   "cell_type": "markdown",
   "metadata": {
    "#question": false,
    "#solution": false,
    "#staff": false,
    "#student": false
   },
   "source": [
    "Identify where the \"method\" goes wrong, as follows. For each of the above proposed Steps 1, 2, and 3, say whether it is true or false. If it is true, you don't have to give a reason. If it is false, explain where the logic fails."
   ]
  },
  {
   "cell_type": "markdown",
   "metadata": {
    "#question": false,
    "#solution": false,
    "#staff": false,
    "#student": true
   },
   "source": [
    "\n",
    "**Type your answer in this cell.** \n",
    "\n",
    "**Step 1:**\n",
    "\n",
    "**Step 2:**\n",
    "\n",
    "**Step 3:**"
   ]
  },
  {
   "cell_type": "markdown",
   "metadata": {
    "#question": false,
    "#solution": false,
    "#staff": false,
    "#student": false
   },
   "source": [
    "### 2b) Ways to Spot Over-Counting\n",
    "\n",
    "Think back to the list of outcomes in Part **1a**. When we calculate $P(M = 2)$, each outcome $\\omega$ for which $M(\\omega) = 2$ should be counted exactly once. But consider how many times the proposed \"method\" in Part **a** counts some outcomes. Fill in the two cells below with the corresponding counts. You should just enter a number or a numerical expression. "
   ]
  },
  {
   "cell_type": "code",
   "execution_count": null,
   "metadata": {
    "#question": false,
    "#solution": false,
    "#staff": false,
    "#student": true
   },
   "outputs": [],
   "source": [
    "# Goal: To find P(M = 2) using the \"method\" proposed in 2a\n",
    "\n",
    "# Number of times the \"method\" counts the outcome [2 2 2 2 2 2 2]\n",
    "..."
   ]
  },
  {
   "cell_type": "code",
   "execution_count": null,
   "metadata": {
    "#question": false,
    "#solution": false,
    "#staff": false,
    "#student": true
   },
   "outputs": [],
   "source": [
    "# Goal: To find P(M = 2) using the \"method\" proposed in 2a\n",
    "\n",
    "# Number of times the \"method\" counts the outcome [2 3 2 4 2 5 6]\n",
    "..."
   ]
  },
  {
   "cell_type": "markdown",
   "metadata": {
    "#question": false,
    "#solution": false,
    "#staff": false,
    "#student": false
   },
   "source": [
    "Finally, see what happens if you try to apply the \"method\" to find $P(M = 1)$. What's the worst thing about the result purporting to be $P(M = 1)$?\n",
    "\n",
    "In the cell below, fill in each blank in the calculation with a numerical expression, and the blank in the comment with a few words."
   ]
  },
  {
   "cell_type": "code",
   "execution_count": null,
   "metadata": {
    "#question": false,
    "#solution": false,
    "#staff": false,
    "#student": true
   },
   "outputs": [],
   "source": [
    "# Applying the \"method\" proposed in 2a to find P(M = 1)\n",
    "\n",
    "... * ... * ...  # The worst thing about this result is ..."
   ]
  },
  {
   "cell_type": "markdown",
   "metadata": {
    "#question": false,
    "#solution": false,
    "#staff": false,
    "#student": false
   },
   "source": [
    "**The moral of this story:** Counting isn't always easy. If you're going to count, then count carefully. Great care is required to correctly count outcomes for a particular value of the minimum. \n",
    "\n",
    "Fortunately, it is not worth the bother. You will now derive a far better method using right tails."
   ]
  },
  {
   "cell_type": "markdown",
   "metadata": {
    "#question": false,
    "#solution": false,
    "#staff": false,
    "#student": false
   },
   "source": [
    "\\newpage"
   ]
  },
  {
   "cell_type": "markdown",
   "metadata": {
    "#question": false,
    "#solution": false,
    "#staff": false,
    "#student": false
   },
   "source": [
    "## Section 3: The Key to Sample Minima – Right Tails\n",
    "\n",
    "By far the best method to work with sample minima, whether you are finding probabilities, distributions, or (appearing soon in this course) expectations, is to use the *right hand tail* probabilities of its distribution. "
   ]
  },
  {
   "cell_type": "markdown",
   "metadata": {
    "#question": false,
    "#solution": false,
    "#staff": false,
    "#student": false
   },
   "source": [
    "### 3a) [On Paper] The Right Tails of a Distribution\n",
    "\n",
    "We will work with positive integer valued random variables, though the method is more general.\n",
    "\n",
    "Consider a probability distribution on the integers $1, 2, \\ldots, N$. Let $p_i$ denote the probability of the integer $i$, so that $\\sum_{i=1}^N p_i = 1$.\n",
    "\n",
    "Let $X$ have the distribution above. For each non-negative integer $k$, find the right tail of $X$ at $k$. That is, find $P(X > k)$.\n",
    "\n",
    "Your answers should be expressions involving $p_1, p_2, \\ldots, p_N$, $N$, and $k$. Be careful; the expression is not the same for all $k$."
   ]
  },
  {
   "cell_type": "markdown",
   "metadata": {
    "#question": false,
    "#solution": false,
    "#staff": false,
    "#student": false
   },
   "source": [
    "### 3b) [On Paper]  Distribution of a Sample Minimum, by Right Tails\n",
    "\n",
    "Let random variables $X_1, X_2, \\ldots, X_n$ be i.i.d. with the distribution in Part **a**, and let $M = \\min\\{X_1, X_2, \\ldots, X_n\\}$. We will call $\\{X_1, X_2, \\ldots, X_n\\}$ the *sample*, and $M$ the *sample minimum*.\n",
    "\n",
    "The goal is to find the distribution of $M$. Find the following and justify your answers.\n",
    "\n",
    "**(i)** The possible values of $M$.\n",
    "\n",
    "**(ii)** For each non-negative integer $k$, an expression for the right tail probability $P(M > k)$ in terms of $p_1, p_2, \\ldots, p_N$, $N$, $k$, and $n$. Be careful; the expression is not the same for all $k$.\n",
    "\n",
    "**(iii)** Use (i) and (ii) to find the distribution of $M$. Make sure your probabilities make sense for the smallest and largest possible value.\n",
    "\n",
    "[Suggestion for (iii): It might help to draw a number line and mark the events $\\{M > k\\}$ for a few values of $k$.]"
   ]
  },
  {
   "cell_type": "markdown",
   "metadata": {
    "#question": false,
    "#solution": false,
    "#staff": false,
    "#student": false
   },
   "source": [
    "### 3c) Computing the Distribution\n",
    "\n",
    "Define a function `distribution_of_minimum` that takes the underlying distribution of the sample and the i.i.d. sample size, and returns the distribution of the sample minimum. \n",
    "\n",
    "In the notation of Parts **a** and **b**, the arguments of `distribution_of_minimum` should be:\n",
    "- The probabilities $p_1, p_2, \\ldots, p_N$ as an array\n",
    "- The i.i.d. sample size $n$\n",
    "\n",
    "The function should return the distribution of the sample minimum as a `prob140` library \"distribution object\", which is just a table that has column labels `Value` and `Probability`.\n",
    "\n",
    "To define the function, fill in each blank in the cell below with an expression, not multiple lines of code. **Use array operations**. They make your code simple and clear. Do not use loops, list comprehensions, or other iterative methods. \n",
    "\n",
    "There is a short guide to code at the start of this lab. Remember that the input array contains all the probabilities in a distribution; `np.cumsum` adds elements cumulatively, starting with Item 0; `np.diff` subtracts successive elements; and so on. \n",
    "\n",
    "It is fine to assume that Item 0 of the probability array is $p_1$ and Item $N-1$ is $p_N$. Thus you can infer the possible values from the probability array. Be careful about array lengths and endpoints when using `np.cumsum` and `np.diff`. "
   ]
  },
  {
   "cell_type": "code",
   "execution_count": null,
   "metadata": {
    "#question": false,
    "#solution": false,
    "#staff": false,
    "#student": true
   },
   "outputs": [],
   "source": [
    "def distribution_of_minimum(prob_array, n):\n",
    "    N = ...      # the value of N\n",
    "    vals = ... # array of possible values of M, the sample minimum\n",
    "    \n",
    "    # Array containing P(X > k) for k = 1, 2, ... N, where X is a generic sampled element\n",
    "    right_tails_X = ...\n",
    "    \n",
    "    # Array containing P(M > k) for the possible values of M\n",
    "    right_tails_M = ...\n",
    "    \n",
    "    # Array containing P(M = k) for the possible values of M\n",
    "    probs_M = ...\n",
    "    \n",
    "    # The rest of the code creates the distribution object and returns it.\n",
    "    distribution_of_M = Table().values(vals).probabilities(probs_M)\n",
    "    return distribution_of_M"
   ]
  },
  {
   "cell_type": "markdown",
   "metadata": {
    "#question": false,
    "#solution": false,
    "#staff": false,
    "#student": false
   },
   "source": [
    "Run the cell below to test whether your function is returning the correct distribution for the minimum of 7 rolls of a die. The output should be the same as `dist_M` in Part **1b**."
   ]
  },
  {
   "cell_type": "code",
   "execution_count": null,
   "metadata": {
    "#question": false,
    "#solution": false,
    "#staff": false,
    "#student": true
   },
   "outputs": [],
   "source": [
    "fair_die = np.ones(6)/6  # array([1/6, 1/6, 1/6, 1/6, 1/6, 1/6])\n",
    "distribution_of_minimum(fair_die, 7)"
   ]
  },
  {
   "cell_type": "markdown",
   "metadata": {
    "#question": false,
    "#solution": false,
    "#staff": false,
    "#student": false
   },
   "source": [
    "### 3d) Minimum Household Size in a Sample\n",
    "The website Statista provides the [distributions of household sizes](https://www.statista.com/statistics/242189/disitribution-of-households-in-the-us-by-household-size/) in the United States, for various years. Go to the website and notice their choice of stacked bars to represent the proportions of households of different sizes. If you hover your cursor over one of the stacks, you can see the percents in that stack. \n",
    "\n",
    "Notice also:\n",
    "- No household has 0 members, so the bottom bar (blue) represents households with one member.\n",
    "- The distributions have been *truncated* at 7. That is, the last category of sizes is \"7 or more\". This truncation is at the high end of the distribution and therefore will not have a noticeable effect on the distribution of the minimum of a random sample. In fact, we will just assume that the category consists of exactly 7 people, as this too won't have much affect on the distribution of the sample minimum.\n",
    "\n",
    "We will work with the 1970 and 2022 distributions. As discussed above, we'll call the final category \"7 persons\", not \"7 or more\".\n",
    "\n",
    "First, run the two cells below for some cleanup to compensate for the fact that the proportions provided don't quite add up to 1. The array `h_size_1970` is the household size probability array for one random draw from US households in 1970. We have just normalized Statista's proportions by the total and rounded the results."
   ]
  },
  {
   "cell_type": "code",
   "execution_count": null,
   "metadata": {
    "#question": false,
    "#solution": false,
    "#staff": false,
    "#student": false
   },
   "outputs": [],
   "source": [
    "# US household size distribution, 1970\n",
    "h_size_1970 = np.array([0.1711, 0.2892, 0.1727, 0.1576, 0.1033, 0.0557, 0.0504])\n",
    "h_size_1970 = np.round(h_size_1970/sum(h_size_1970), 5)\n",
    "h_size_1970, sum(h_size_1970)"
   ]
  },
  {
   "cell_type": "code",
   "execution_count": null,
   "metadata": {
    "#question": false,
    "#solution": false,
    "#staff": false,
    "#student": false
   },
   "outputs": [],
   "source": [
    "# US household size distribution, 2022\n",
    "h_size_2022 = np.array([0.2888, 0.3472, 0.1510, 0.1234, 0.0556, 0.0215, 0.0126])\n",
    "h_size_2022 = np.round(h_size_2022/sum(h_size_2022), 5)\n",
    "h_size_2022, sum(h_size_2022)"
   ]
  },
  {
   "cell_type": "markdown",
   "metadata": {
    "#question": false,
    "#solution": false,
    "#staff": false,
    "#student": false
   },
   "source": [
    "Run the next cell to see overlaid histograms of the two distributions."
   ]
  },
  {
   "cell_type": "code",
   "execution_count": null,
   "metadata": {
    "#question": false,
    "#solution": false,
    "#staff": false,
    "#student": false
   },
   "outputs": [],
   "source": [
    "sizes = np.arange(1, 8)\n",
    "dist_size_1970 = Table().values(sizes).probabilities(h_size_1970)\n",
    "dist_size_2022 = Table().values(sizes).probabilities(h_size_2022)\n",
    "Plots('1970', dist_size_1970, '2022', dist_size_2022)\n",
    "plt.title('US Household Size Distribution (truncated)');"
   ]
  },
  {
   "cell_type": "markdown",
   "metadata": {
    "#question": false,
    "#solution": false,
    "#staff": false,
    "#student": false
   },
   "source": [
    "The two distributions reflect changes in the US over half a century. Briefly describe the main difference that you see, and say how you think it will affect the distribution of the minimum of an i.i.d. random sample of US households taken in each of the two years. You can assume the two samples have the same size."
   ]
  },
  {
   "cell_type": "markdown",
   "metadata": {
    "#question": false,
    "#solution": false,
    "#staff": false,
    "#student": true
   },
   "source": [
    "\n",
    "**Type your answer in this cell.**"
   ]
  },
  {
   "cell_type": "markdown",
   "metadata": {
    "#question": false,
    "#solution": false,
    "#staff": false,
    "#student": false
   },
   "source": [
    "Run the cell below to see the distribution of the sample minimum for i.i.d. samples of size 10 drawn in each of the two years. Without drawing new histograms, say what the distributions would look like for a sample size of 100 instead of 10."
   ]
  },
  {
   "cell_type": "code",
   "execution_count": null,
   "metadata": {
    "#question": false,
    "#solution": false,
    "#staff": false,
    "#student": false
   },
   "outputs": [],
   "source": [
    "dist_M_1970 = distribution_of_minimum(h_size_1970, 10)\n",
    "dist_M_2022 = distribution_of_minimum(h_size_2022, 10)\n",
    "Plots('1970 Sample Minimum', dist_M_1970, '2022 Sample Minimum', dist_M_2022)"
   ]
  },
  {
   "cell_type": "markdown",
   "metadata": {
    "#question": false,
    "#solution": false,
    "#staff": false,
    "#student": true
   },
   "source": [
    "\n",
    "**Type your answer in this cell.**"
   ]
  },
  {
   "cell_type": "markdown",
   "metadata": {
    "#question": false,
    "#solution": false,
    "#staff": false,
    "#student": false
   },
   "source": [
    "## Conclusion ##\n",
    "\n",
    "You now know:\n",
    "\n",
    "- How to find distributions of random variables by listing all the elements of the outcome space.\n",
    "- Finding distributions by complete enumeration is not feasible for large outcome spaces, as in situations where the population and sample sizes are large.\n",
    "- When you count outcomes that satisfy a specified condition, every outcome that satisfies the condition must be counted exactly once. You have to be careful about over-counting and under-counting. \n",
    "- To find the distribution of a discrete random variable $X$, it might be complicated to find the chance of all the outcomes that satisfy the condition $\\{X = x\\}$. For a sample minimum $M$, it is much easier to identify the outcomes that satisfy $\\{M > x\\}$ and hence find the right tail probability $P(M > x)$ for each $x$. You can then combine those probabilities appropriately to find $P(M = x)$.\n",
    "\n",
    "Sample minima are just one example of random variables whose right tails are useful. You'll see a few more as the course progresses.\n",
    "\n",
    "### <span style=\"color: #113399\">You have completed Lab 2. Congratulations!</span> ###\n",
    "\n",
    "Please follow the submission instructions below to ensure that you have submitted the lab correctly."
   ]
  },
  {
   "cell_type": "markdown",
   "metadata": {
    "#question": false,
    "#solution": false,
    "#staff": false,
    "#student": true
   },
   "source": [
    "## Submission Instructions ##\n",
    "\n",
    "Many assignments throughout the course will have a written portion and a code portion. Please follow the directions below to properly submit both portions.\n",
    "\n",
    "### Written Portion ###\n",
    "*  Scan all the pages into a PDF. You can use any scanner or a phone using applications such as CamScanner. Please **DO NOT** simply take pictures using your phone. \n",
    "* Please start a new page for each question. If you have already written multiple questions on the same page, you can crop the image in CamScanner or fold your page over (the old-fashioned way). This helps expedite grading.\n",
    "* It is your responsibility to check that all the work on all the scanned pages is legible.\n",
    "* If you used $\\LaTeX$ to do the written portions, you do not need to do any scanning; you can just download the whole notebook as a PDF via LaTeX.\n",
    "\n",
    "### Code Portion ###\n",
    "* Save your notebook using `File > Save Notebook`.\n",
    "* Generate a PDF file using `File > Save and Export Notebook As > PDF`. This might take a few seconds and will automatically download a PDF version of this notebook.\n",
    "    * If you have issues, please post a follow-up on the general Lab 2 Ed thread.\n",
    "    \n",
    "### Submitting ###\n",
    "* Combine the PDFs from the written and code portions into one PDF. [Here](https://smallpdf.com/merge-pdf) is a useful tool for doing so. \n",
    "* Submit the assignment to Lab 2 on Gradescope. \n",
    "* **Make sure to assign each page of your pdf to the correct question.**\n",
    "* **It is your responsibility to verify that all of your work shows up in your final PDF submission.**\n",
    "\n",
    "If you are having difficulties scanning, uploading, or submitting your work, please read the [Ed Thread](https://edstem.org/us/courses/83687/discussion/6882870) on this topic and post a follow-up on the general Lab 2 Ed thread.\n",
    "\n",
    "## **We will not grade assignments which do not have pages selected for each question.** ##"
   ]
  }
 ],
 "metadata": {
  "anaconda-cloud": {},
  "checksums": [
   "a1a82caefddab3ed19eafda071da591d",
   "fb5e56b12868581c05d024bb3376c005",
   "a427e5f4a243ad5172bdbc4b4dadef59",
   "9715e8f78c899b83b33204d304e68ab7",
   "83dc264ced949bc582f14a463c79b8c7",
   "9d4107ae237fbc483fcbaeeb006faf3a",
   "d8e4361bf15d06c407d7d67ff4549139",
   "6917b6a12b6818b67cd188c52bb7ef24",
   "562505d567faf02dfc9388e81e89d07b",
   "9b5749069f6156ec2db5fba774350167",
   "3f6a4aec03abd0c9e9eaaec55e2d021d",
   "8969e44f0e6695349020df9feae8eaeb",
   "db16bc09c9bf428a4eadd95829dbb2a0",
   "2f43b42fd833d1e77420a8dae7419000",
   "6bf55d08c70e640991a451ec49508b5f",
   "2851ef46584c3b923b07e28f18690883",
   "e3da6639e927f950e0c09fffdd14e5e3",
   "89446c051bade0418aaf2b2bac0651e6",
   "c8f897f3dd9289bd2f1e6953443822f0",
   "2f43b42fd833d1e77420a8dae7419000",
   "c63ebe36177f23715ec772932a9f67da",
   "f125dba64be9130357ce3fcf07b9a77e",
   "562505d567faf02dfc9388e81e89d07b",
   "f544d8915fbe1da6a85efed10f8b4848",
   "dfa19e8f5a0b87deaeff45f5c4b9540f",
   "6ea191e6a33fc5e9ee9604d8053d968a",
   "eb07392665f8df340f02d7b5c37ebeb2",
   "6ec5520f6d7977008cc6d73d1884487b",
   "c68756e082085fe61567bbb36aa7ebb0",
   "e3d73e37a6d5090ef020c6a0473450b3",
   "293c6f7a199b80613284d2888e331a5a",
   "3e55e5171ac78723b48d0dd9d035eb5c",
   "c5072148ce3f8b32d4c2bd64f6db3b71",
   "149bcfc6c88b232c5b40d69181d17d0d",
   "562505d567faf02dfc9388e81e89d07b",
   "4c6fa22a67ec122a7e873705d2d4fd0a",
   "6b822170c32aaea52e6d1c91c3dd91d8",
   "92d871ffce998e88011a75be1ad5467d",
   "3137a46ab2424c6f6bd4c84ea3de14cf",
   "2efdc853d22e554af792a0032af688c9",
   "c17aaa72178f8c90a0b0cb3ab0ebe57b",
   "c65d0abe48556266618675e4288e45c9",
   "11eb3db0d7c692fa03f6e48c2779e8b5",
   "87ede4eb3c95d7f2c9b81049f186cf45",
   "cd57c41db97bf2776120ffb091e94364",
   "9b9ed897920dc25d96256751b1a26951",
   "cfb64a500db369bab707502ea9747d90",
   "02dcb16256e7d5de5cb2a71bea82d46a",
   "6917b6a12b6818b67cd188c52bb7ef24",
   "36fa4fb00c526bbffb0e34d6d3e473b5",
   "f9189c889981bf4d4489b4fe17561287",
   "6917b6a12b6818b67cd188c52bb7ef24",
   "90bff824c421d4dbe2f02af4a4845291",
   "fe9879ac9a4c274e8be5a339f276fa24"
  ],
  "history": [
   {
    "code": "# SETUP\n\n# These lines make warnings go away\nimport warnings\nwarnings.filterwarnings('ignore')\n\n# The main libraries\nimport numpy as np\nfrom datascience import *\nfrom prob140 import *\n\n# These lines do some fancy plotting magic\nimport matplotlib\n%matplotlib inline\nimport matplotlib.pyplot as plt\nplt.style.use('fivethirtyeight')",
    "id": "df92bca41d2a402ba0d2bf707b9dd4b5",
    "idx": 2,
    "time": "2021-02-04T03:10:45.079Z",
    "type": "execution"
   },
   {
    "id": "df92bca41d2a402ba0d2bf707b9dd4b5",
    "time": "2021-02-04T03:10:47.510Z",
    "type": "completion"
   },
   {
    "code": "N = 365",
    "id": "d956ddc998a9441ba6149ec6522332c0",
    "idx": 5,
    "time": "2021-02-04T03:10:47.957Z",
    "type": "execution"
   },
   {
    "id": "d956ddc998a9441ba6149ec6522332c0",
    "time": "2021-02-04T03:10:48.145Z",
    "type": "completion"
   },
   {
    "code": "n = 5\nindividuals = np.arange(n)\nindividuals",
    "id": "84b3cf42d97345b0b64ea90e2f92bede",
    "idx": 7,
    "time": "2021-02-04T03:10:49.875Z",
    "type": "execution"
   },
   {
    "id": "84b3cf42d97345b0b64ea90e2f92bede",
    "time": "2021-02-04T03:10:49.992Z",
    "type": "completion"
   },
   {
    "code": "N - individuals",
    "id": "ef8372bb248c437b8662976ac2dd9878",
    "idx": 8,
    "time": "2021-02-04T03:10:51.017Z",
    "type": "execution"
   },
   {
    "id": "ef8372bb248c437b8662976ac2dd9878",
    "time": "2021-02-04T03:10:51.161Z",
    "type": "completion"
   },
   {
    "code": "(N - individuals)/N",
    "id": "49099414a3ad4c3e837ba20381c1ec83",
    "idx": 9,
    "time": "2021-02-04T03:10:51.269Z",
    "type": "execution"
   },
   {
    "code": "np.prod( (N - individuals)/N )",
    "id": "27762ee6ec7d449d89a0ada36712ff0b",
    "idx": 10,
    "time": "2021-02-04T03:10:51.425Z",
    "type": "execution"
   },
   {
    "id": "49099414a3ad4c3e837ba20381c1ec83",
    "time": "2021-02-04T03:10:51.470Z",
    "type": "completion"
   },
   {
    "id": "27762ee6ec7d449d89a0ada36712ff0b",
    "time": "2021-02-04T03:10:51.604Z",
    "type": "completion"
   },
   {
    "code": "#solution\ndef p_no_match(n):\n    people = np.arange(n)\n    return np.prod( (N - people)/N )",
    "id": "5a341572b108489d8207b70ec8eef1b3",
    "idx": 13,
    "time": "2021-02-04T03:10:54.178Z",
    "type": "execution"
   },
   {
    "id": "5a341572b108489d8207b70ec8eef1b3",
    "time": "2021-02-04T03:10:54.322Z",
    "type": "completion"
   },
   {
    "code": "#solution\np_no_match(23)",
    "id": "e19d7d224e10452c8a2c14911714554a",
    "idx": 19,
    "time": "2021-02-04T03:10:57.128Z",
    "type": "execution"
   },
   {
    "id": "e19d7d224e10452c8a2c14911714554a",
    "time": "2021-02-04T03:10:57.270Z",
    "type": "completion"
   },
   {
    "code": "birthday_probs = Table().with_columns('People', np.arange(1, N+1))\nbirthday_probs",
    "id": "ad90d0e21c304899b505502975aa114a",
    "idx": 21,
    "time": "2021-02-04T03:11:02.602Z",
    "type": "execution"
   },
   {
    "id": "ad90d0e21c304899b505502975aa114a",
    "time": "2021-02-04T03:11:02.724Z",
    "type": "completion"
   },
   {
    "code": "#solution\nall_different = birthday_probs.apply(p_no_match, 0)",
    "id": "5b83f3c04b154ca081b4464803a0bfaa",
    "idx": 24,
    "time": "2021-02-04T03:11:04.511Z",
    "type": "execution"
   },
   {
    "id": "5b83f3c04b154ca081b4464803a0bfaa",
    "time": "2021-02-04T03:11:04.625Z",
    "type": "completion"
   },
   {
    "code": "#solution\nall_different.item(22)",
    "id": "543f46a9e1b34c718d7effdbad1fe28e",
    "idx": 27,
    "time": "2021-02-04T03:11:05.840Z",
    "type": "execution"
   },
   {
    "id": "543f46a9e1b34c718d7effdbad1fe28e",
    "time": "2021-02-04T03:11:05.978Z",
    "type": "completion"
   },
   {
    "code": "#solution\nbirthday_probs = birthday_probs.with_columns(\n    'P(no match)', all_different,\n    'P(at least one match)', 1 - all_different\n)\n\nbirthday_probs",
    "id": "ec783bfdb5a04c12999f4af3496870b7",
    "idx": 30,
    "time": "2021-02-04T03:11:07.414Z",
    "type": "execution"
   },
   {
    "id": "ec783bfdb5a04c12999f4af3496870b7",
    "time": "2021-02-04T03:11:07.540Z",
    "type": "completion"
   },
   {
    "code": "#solution\nbirthday_probs.scatter(0, 2)\n\n# Everything below this line is for fine-tuning the graphics.\n# There is nothing for you to enter below this line.\n\n# plt is short for matplotlib.pyplot; see the import cell at the top\n\nplt.xlim(0, 70)     # restrict trials to at most 70\n\nplt.ylim(0, 1)      # use the probability scale on the vertical axis\n\n# Draw a red horizontal line at level 1/2\n# plt.plot joins the dots between the two points (x_1, y_1) and (x_2, y_2)\n# Arguments: [x_1, x_2], [y_1, y_2] \n# Optional arguments: color=, and lw=\n# That last one is line width. Bigger values produce thicker lines.\n\nplt.plot([0, 70], [0.5, 0.5], color='red', lw=1);",
    "id": "93f1d01c2eaa4b11829828f54f9fe011",
    "idx": 34,
    "time": "2021-02-04T03:11:09.731Z",
    "type": "execution"
   },
   {
    "id": "93f1d01c2eaa4b11829828f54f9fe011",
    "time": "2021-02-04T03:11:10.155Z",
    "type": "completion"
   },
   {
    "code": "#solution\ndef tipping_point(N):\n    prob_no_match = 1\n    for n in np.arange(2, N+1):\n        if prob_no_match > 0.5:\n            prob_no_match = prob_no_match * (N - (n-1))/N\n        else:\n            return n-1",
    "id": "868c0f8c813443a4856bc4189540b914",
    "idx": 46,
    "time": "2021-02-04T03:11:17.819Z",
    "type": "execution"
   },
   {
    "id": "868c0f8c813443a4856bc4189540b914",
    "time": "2021-02-04T03:11:17.963Z",
    "type": "completion"
   },
   {
    "code": "tipping_point(365)",
    "id": "8c8b8751f77f499cb5c1969903f440e5",
    "idx": 48,
    "time": "2021-02-04T03:11:20.422Z",
    "type": "execution"
   },
   {
    "id": "8c8b8751f77f499cb5c1969903f440e5",
    "time": "2021-02-04T03:11:20.556Z",
    "type": "completion"
   },
   {
    "code": "#solution\ntipping_point(687)",
    "id": "bbd4e88681ca483980a90012518158e6",
    "idx": 51,
    "time": "2021-02-04T03:11:22.071Z",
    "type": "execution"
   },
   {
    "id": "bbd4e88681ca483980a90012518158e6",
    "time": "2021-02-04T03:11:22.211Z",
    "type": "completion"
   },
   {
    "code": "#solution\ntipping_point(2**16)",
    "id": "2ab238ad03a044fd950268be53fe4430",
    "idx": 54,
    "time": "2021-02-04T03:11:23.488Z",
    "type": "execution"
   },
   {
    "id": "2ab238ad03a044fd950268be53fe4430",
    "time": "2021-02-04T03:11:23.642Z",
    "type": "completion"
   },
   {
    "code": "#solution\ndef approx_tipping_point(N):\n    return np.ceil( (-2*N * np.log(0.5)) ** 0.5 )",
    "id": "2a8390867532435b8a550924314758ef",
    "idx": 61,
    "time": "2021-02-04T03:11:43.645Z",
    "type": "execution"
   },
   {
    "id": "2a8390867532435b8a550924314758ef",
    "time": "2021-02-04T03:11:43.760Z",
    "type": "completion"
   },
   {
    "code": "approx_tipping_point(365), approx_tipping_point(687), approx_tipping_point(2**16)",
    "id": "2fb24f6d52aa41bb863c57ec41081e5c",
    "idx": 63,
    "time": "2021-02-04T03:11:45.111Z",
    "type": "execution"
   },
   {
    "id": "2fb24f6d52aa41bb863c57ec41081e5c",
    "time": "2021-02-04T03:11:45.290Z",
    "type": "completion"
   },
   {
    "code": "#solution\napprox_tipping_point(2**128)",
    "id": "966d81c292a1470180df36014e5eb10e",
    "idx": 66,
    "time": "2021-02-04T03:11:47.288Z",
    "type": "execution"
   },
   {
    "id": "966d81c292a1470180df36014e5eb10e",
    "time": "2021-02-04T03:11:47.420Z",
    "type": "completion"
   },
   {
    "code": "#solution\nN = 365\n\n\"\"\" Distribution of M_1 \"\"\"\n\n# Array of possible values, in terms of N\npossible_vals_M1 = np.arange(2, N+2)\n\n# Carefully ... An array of the corresponding probabilities, in terms of N and the array all_different\nmatching_time_probs = np.append(-np.diff(all_different), all_different.item(N-1))",
    "id": "b8d098dbb5dd4b3e89f3d6b4c6f9eb42",
    "idx": 84,
    "time": "2021-02-04T03:11:55.810Z",
    "type": "execution"
   },
   {
    "id": "b8d098dbb5dd4b3e89f3d6b4c6f9eb42",
    "time": "2021-02-04T03:11:55.921Z",
    "type": "completion"
   },
   {
    "code": "len(possible_vals_M1), len(matching_time_probs), sum(matching_time_probs)",
    "id": "ef9d2c4a6b564ebaa536ac7273611262",
    "idx": 86,
    "time": "2021-02-04T03:11:58.996Z",
    "type": "execution"
   },
   {
    "id": "ef9d2c4a6b564ebaa536ac7273611262",
    "time": "2021-02-04T03:11:59.124Z",
    "type": "completion"
   },
   {
    "code": "#solution\ndist_M1 = Table().values(possible_vals_M1).probabilities(matching_time_probs)\n\nPlot(dist_M1)\n\n# labels\nplt.xlabel('$M_1$')\nplt.title('Distribution of $M_1$');",
    "id": "70ab310a571c4d5ab2815cb5e848f071",
    "idx": 89,
    "time": "2021-02-04T03:12:00.955Z",
    "type": "execution"
   },
   {
    "code": "truncated_dist_M1 = dist_M1.take(np.arange(100))\n\nPlot(truncated_dist_M1)\n\nplt.xlabel('$M_1$')\nplt.title('Distribution of $M_1$');",
    "id": "4b1b4e2789e94c518a638320785bf3f4",
    "idx": 91,
    "time": "2021-02-04T03:12:02.229Z",
    "type": "execution"
   },
   {
    "id": "70ab310a571c4d5ab2815cb5e848f071",
    "time": "2021-02-04T03:12:02.283Z",
    "type": "completion"
   },
   {
    "id": "4b1b4e2789e94c518a638320785bf3f4",
    "time": "2021-02-04T03:12:02.988Z",
    "type": "completion"
   },
   {
    "code": "#solution\n\"\"\"\nBy 4a, P(no matches among n people) = P(D_n) = P(M_1 > n).\nSo P(at least one match among n people) = 1 - P(D_n) = P(M_1 <= n).\nThat crosses 50% at n=23.\n\"\"\"\n\nmedian_365 = 23",
    "id": "1f15df369dd840308e6f706385831374",
    "idx": 95,
    "time": "2021-02-04T03:12:05.099Z",
    "type": "execution"
   },
   {
    "id": "1f15df369dd840308e6f706385831374",
    "time": "2021-02-04T03:12:05.262Z",
    "type": "completion"
   },
   {
    "code": "event_4e = np.arange(median_365 + 1)\n\nPlot(truncated_dist_M1, event=event_4e)\n\nplt.xlabel('$M_1$')\nplt.title('Event {$M_1 \\leq median$}');",
    "id": "59f34fa3ca944204aac24f6490a93ceb",
    "idx": 97,
    "time": "2021-02-04T03:12:07.926Z",
    "type": "execution"
   },
   {
    "code": "dist_M1.prob_event(event_4e)",
    "id": "11d0549d20ae40098e6dbd40829ccd69",
    "idx": 98,
    "time": "2021-02-04T03:12:08.260Z",
    "type": "execution"
   },
   {
    "id": "59f34fa3ca944204aac24f6490a93ceb",
    "time": "2021-02-04T03:12:08.555Z",
    "type": "completion"
   },
   {
    "id": "11d0549d20ae40098e6dbd40829ccd69",
    "time": "2021-02-04T03:12:08.561Z",
    "type": "completion"
   },
   {
    "code": "#solution\nN = 365 \n\n# Array of possible values of M2, in terms of N\n\npossible_vals_M2 = np.arange(3, N+3)",
    "id": "5799da833059458f8911fcf05134c49d",
    "idx": 105,
    "time": "2021-02-04T03:12:12.121Z",
    "type": "execution"
   },
   {
    "id": "5799da833059458f8911fcf05134c49d",
    "time": "2021-02-04T03:12:12.257Z",
    "type": "completion"
   },
   {
    "code": "#solution\n# P(M_1 = 15)\n\np_m1_15 = matching_time_probs.item(13)\n\n# P(M_1 = 15, M_2 = 20)\n\np_m1_15_m2_20 = p_m1_15 * ((365-14)/365) * ((365-15)/365) * ((365-16)/365) * ((365-17)/365) * (18/365)\n\np_m1_15, p_m1_15_m2_20",
    "id": "be2760922a734849822bd1f4924ae560",
    "idx": 108,
    "time": "2021-02-04T03:12:13.981Z",
    "type": "execution"
   },
   {
    "id": "be2760922a734849822bd1f4924ae560",
    "time": "2021-02-04T03:12:14.111Z",
    "type": "completion"
   },
   {
    "code": "#solution\ndef joint_probs(i, j):\n    N = 365\n    if j > i:\n        d = j-i\n        diffs = (N - np.arange(i-1, i-1 + d-1)) / N\n        return matching_time_probs.item(i-2) * np.prod(diffs) * (j-2)/N\n    else:\n        return 0",
    "id": "44106ceef2df46d8a76e64f468b240a8",
    "idx": 111,
    "time": "2021-02-04T03:12:16.154Z",
    "type": "execution"
   },
   {
    "id": "44106ceef2df46d8a76e64f468b240a8",
    "time": "2021-02-04T03:12:16.271Z",
    "type": "completion"
   },
   {
    "code": "joint_probs(20, 15), joint_probs(15, 20)",
    "id": "219416f6398742c993c5f1980e8027eb",
    "idx": 113,
    "time": "2021-02-04T03:12:18.502Z",
    "type": "execution"
   },
   {
    "id": "219416f6398742c993c5f1980e8027eb",
    "time": "2021-02-04T03:12:18.632Z",
    "type": "completion"
   },
   {
    "code": "#solution\na = 1/365\nb = 1/365**2\nc = 1/365**3\n\n# P(M_1 = 2, M_2 = 3)\np_M1_2_M2_3 = b              # enter one of a, b, c\n\np_M1_2_M2_3, joint_probs(2, 3)",
    "id": "e222759bc6304e7288e42fbbc523037e",
    "idx": 116,
    "time": "2021-02-04T03:12:20.790Z",
    "type": "execution"
   },
   {
    "id": "e222759bc6304e7288e42fbbc523037e",
    "time": "2021-02-04T03:12:20.931Z",
    "type": "completion"
   },
   {
    "code": "#solution\njt_M1_M2 = Table().values('M1', possible_vals_M1, 'M2', possible_vals_M2).probability_function(joint_probs)\njt_M1_M2",
    "id": "facdc080496c44898003308d7926588a",
    "idx": 119,
    "time": "2021-02-04T03:12:22.709Z",
    "type": "execution"
   },
   {
    "id": "facdc080496c44898003308d7926588a",
    "time": "2021-02-04T03:12:26.535Z",
    "type": "completion"
   },
   {
    "code": "marginal_M1 = jt_M1_M2.marginal_dist('M1')\n\nPlot(marginal_M1)\n\nplt.xlabel('$M_1$')\nplt.title('Distribution of $M_1$');",
    "id": "6a2f3786300d43b88dd42efb73bbcda9",
    "idx": 121,
    "time": "2021-02-04T03:12:29.870Z",
    "type": "execution"
   },
   {
    "id": "6a2f3786300d43b88dd42efb73bbcda9",
    "time": "2021-02-04T03:12:30.853Z",
    "type": "completion"
   },
   {
    "code": "#solution\nmarginal_M2 = jt_M1_M2.marginal_dist('M2')\n\nPlot(marginal_M2)\n\nplt.xlabel('$M_2$')\nplt.title('Distribution of $M_2$');",
    "id": "0f9d1b155bf54870b445624849e23799",
    "idx": 124,
    "time": "2021-02-04T03:12:33.091Z",
    "type": "execution"
   },
   {
    "id": "0f9d1b155bf54870b445624849e23799",
    "time": "2021-02-04T03:12:34.278Z",
    "type": "completion"
   },
   {
    "code": "Plot(truncated_dist_M1)\n\nplt.xlabel('$M_1$')\nplt.title('Distribution of $M_1$');",
    "id": "d6934aa1574a42cdadcbeab0250701f4",
    "idx": 126,
    "time": "2021-02-04T03:12:37.953Z",
    "type": "execution"
   },
   {
    "id": "d6934aa1574a42cdadcbeab0250701f4",
    "time": "2021-02-04T03:12:38.533Z",
    "type": "completion"
   },
   {
    "code": "marginal_M2 = jt_M1_M2.marginal_dist('M2')\nmarginal_M2",
    "id": "256c050ed2bb4238ae0488fec0df8b6e",
    "idx": 128,
    "time": "2021-02-04T03:12:38.761Z",
    "type": "execution"
   },
   {
    "id": "256c050ed2bb4238ae0488fec0df8b6e",
    "time": "2021-02-04T03:12:38.901Z",
    "type": "completion"
   },
   {
    "code": "truncated_dist_M2 = marginal_M2.take(np.arange(100))\nPlot(truncated_dist_M2)\n\nplt.xlabel('$M_2$')\nplt.title('Distribution of $M_2$');",
    "id": "91794372816c472e80b43c886634971f",
    "idx": 129,
    "time": "2021-02-04T03:12:39.691Z",
    "type": "execution"
   },
   {
    "id": "91794372816c472e80b43c886634971f",
    "time": "2021-02-04T03:12:40.305Z",
    "type": "completion"
   },
   {
    "code": "Plots('M1', truncated_dist_M1, 'M2', truncated_dist_M2)",
    "id": "9fb4908256414016b9d73da49dbcae00",
    "idx": 131,
    "time": "2021-02-04T03:12:41.586Z",
    "type": "execution"
   },
   {
    "id": "9fb4908256414016b9d73da49dbcae00",
    "time": "2021-02-04T03:12:42.281Z",
    "type": "completion"
   },
   {
    "code": "#solution\n# P(X = Y)\n\ndef indicator_equal(i, j):\n    return i == j-i\n\njt_M1_M2.event(indicator_equal, 'M1', 'M2');",
    "id": "9d6b760bc2234f4f9722ee7df31eb29c",
    "idx": 145,
    "time": "2021-02-04T03:12:49.152Z",
    "type": "execution"
   },
   {
    "code": "#solution\n# P(X > Y)\n\ndef indicator_X_greater(i, j):\n    return i > j-i\n\njt_M1_M2.event(indicator_X_greater, 'M1', 'M2');",
    "id": "98ce60111c044b14a0cd345a4827f05a",
    "idx": 146,
    "time": "2021-02-04T03:12:49.548Z",
    "type": "execution"
   },
   {
    "id": "9d6b760bc2234f4f9722ee7df31eb29c",
    "time": "2021-02-04T03:12:49.765Z",
    "type": "completion"
   },
   {
    "code": "#solution\n# P(X < Y)\n\ndef indicator_Y_greater(i, j):\n    return i < j-i\n\njt_M1_M2.event(indicator_Y_greater, 'M1', 'M2');",
    "id": "9797512ced324acb9acdcf8d6d3afd57",
    "idx": 147,
    "time": "2021-02-04T03:12:49.867Z",
    "type": "execution"
   },
   {
    "id": "98ce60111c044b14a0cd345a4827f05a",
    "time": "2021-02-04T03:12:51.737Z",
    "type": "completion"
   },
   {
    "id": "9797512ced324acb9acdcf8d6d3afd57",
    "time": "2021-02-04T03:12:51.974Z",
    "type": "completion"
   },
   {
    "code": "#solution\ntipping_point(2**32)",
    "id": "2c6accf0f1c44276822f9ce070b802d1",
    "idx": 57,
    "time": "2021-02-04T03:13:17.638Z",
    "type": "execution"
   },
   {
    "code": "# SETUP\n\n# These lines make warnings go away\nimport warnings\nwarnings.filterwarnings('ignore')\n\n# The main libraries\nimport numpy as np\nfrom datascience import *\nfrom prob140 import *\n\n# These lines do some fancy plotting magic\nimport matplotlib\n%matplotlib inline\nimport matplotlib.pyplot as plt\nplt.style.use('fivethirtyeight')",
    "id": "df92bca41d2a402ba0d2bf707b9dd4b5",
    "idx": 2,
    "time": "2021-02-04T03:13:43.645Z",
    "type": "execution"
   },
   {
    "id": "df92bca41d2a402ba0d2bf707b9dd4b5",
    "time": "2021-02-04T03:13:46.029Z",
    "type": "completion"
   },
   {
    "code": "N = 365",
    "id": "d956ddc998a9441ba6149ec6522332c0",
    "idx": 5,
    "time": "2021-02-04T03:13:46.982Z",
    "type": "execution"
   },
   {
    "id": "d956ddc998a9441ba6149ec6522332c0",
    "time": "2021-02-04T03:13:47.190Z",
    "type": "completion"
   },
   {
    "code": "n = 5\nindividuals = np.arange(n)\nindividuals",
    "id": "84b3cf42d97345b0b64ea90e2f92bede",
    "idx": 7,
    "time": "2021-02-04T03:13:48.993Z",
    "type": "execution"
   },
   {
    "id": "84b3cf42d97345b0b64ea90e2f92bede",
    "time": "2021-02-04T03:13:49.110Z",
    "type": "completion"
   },
   {
    "code": "N - individuals",
    "id": "ef8372bb248c437b8662976ac2dd9878",
    "idx": 8,
    "time": "2021-02-04T03:13:49.352Z",
    "type": "execution"
   },
   {
    "id": "ef8372bb248c437b8662976ac2dd9878",
    "time": "2021-02-04T03:13:49.481Z",
    "type": "completion"
   },
   {
    "code": "(N - individuals)/N",
    "id": "49099414a3ad4c3e837ba20381c1ec83",
    "idx": 9,
    "time": "2021-02-04T03:13:49.658Z",
    "type": "execution"
   },
   {
    "id": "49099414a3ad4c3e837ba20381c1ec83",
    "time": "2021-02-04T03:13:49.779Z",
    "type": "completion"
   },
   {
    "code": "np.prod( (N - individuals)/N )",
    "id": "27762ee6ec7d449d89a0ada36712ff0b",
    "idx": 10,
    "time": "2021-02-04T03:13:50.256Z",
    "type": "execution"
   },
   {
    "id": "27762ee6ec7d449d89a0ada36712ff0b",
    "time": "2021-02-04T03:13:50.367Z",
    "type": "completion"
   },
   {
    "code": "#solution\ndef p_no_match(n):\n    people = np.arange(n)\n    return np.prod( (N - people)/N )",
    "id": "5a341572b108489d8207b70ec8eef1b3",
    "idx": 13,
    "time": "2021-02-04T03:13:52.354Z",
    "type": "execution"
   },
   {
    "id": "5a341572b108489d8207b70ec8eef1b3",
    "time": "2021-02-04T03:13:52.481Z",
    "type": "completion"
   },
   {
    "code": "#solution\np_no_match(23)",
    "id": "e19d7d224e10452c8a2c14911714554a",
    "idx": 19,
    "time": "2021-02-04T03:13:55.589Z",
    "type": "execution"
   },
   {
    "id": "e19d7d224e10452c8a2c14911714554a",
    "time": "2021-02-04T03:13:55.717Z",
    "type": "completion"
   },
   {
    "code": "birthday_probs = Table().with_columns('People', np.arange(1, N+1))\nbirthday_probs",
    "id": "ad90d0e21c304899b505502975aa114a",
    "idx": 21,
    "time": "2021-02-04T03:13:58.414Z",
    "type": "execution"
   },
   {
    "id": "ad90d0e21c304899b505502975aa114a",
    "time": "2021-02-04T03:13:58.544Z",
    "type": "completion"
   },
   {
    "code": "#solution\nall_different = birthday_probs.apply(p_no_match, 0)",
    "id": "5b83f3c04b154ca081b4464803a0bfaa",
    "idx": 24,
    "time": "2021-02-04T03:14:05.000Z",
    "type": "execution"
   },
   {
    "id": "5b83f3c04b154ca081b4464803a0bfaa",
    "time": "2021-02-04T03:14:05.110Z",
    "type": "completion"
   },
   {
    "code": "#solution\nall_different.item(22)",
    "id": "543f46a9e1b34c718d7effdbad1fe28e",
    "idx": 27,
    "time": "2021-02-04T03:14:06.683Z",
    "type": "execution"
   },
   {
    "id": "543f46a9e1b34c718d7effdbad1fe28e",
    "time": "2021-02-04T03:14:06.815Z",
    "type": "completion"
   },
   {
    "code": "#solution\nbirthday_probs = birthday_probs.with_columns(\n    'P(no match)', all_different,\n    'P(at least one match)', 1 - all_different\n)\n\nbirthday_probs",
    "id": "ec783bfdb5a04c12999f4af3496870b7",
    "idx": 30,
    "time": "2021-02-04T03:14:08.897Z",
    "type": "execution"
   },
   {
    "id": "ec783bfdb5a04c12999f4af3496870b7",
    "time": "2021-02-04T03:14:09.011Z",
    "type": "completion"
   },
   {
    "code": "#solution\nbirthday_probs.scatter(0, 2)\n\n# Everything below this line is for fine-tuning the graphics.\n# There is nothing for you to enter below this line.\n\n# plt is short for matplotlib.pyplot; see the import cell at the top\n\nplt.xlim(0, 70)     # restrict trials to at most 70\n\nplt.ylim(0, 1)      # use the probability scale on the vertical axis\n\n# Draw a red horizontal line at level 1/2\n# plt.plot joins the dots between the two points (x_1, y_1) and (x_2, y_2)\n# Arguments: [x_1, x_2], [y_1, y_2] \n# Optional arguments: color=, and lw=\n# That last one is line width. Bigger values produce thicker lines.\n\nplt.plot([0, 70], [0.5, 0.5], color='red', lw=1);",
    "id": "93f1d01c2eaa4b11829828f54f9fe011",
    "idx": 34,
    "time": "2021-02-04T03:14:11.885Z",
    "type": "execution"
   },
   {
    "id": "93f1d01c2eaa4b11829828f54f9fe011",
    "time": "2021-02-04T03:14:12.312Z",
    "type": "completion"
   },
   {
    "code": "#solution\ndef tipping_point(N):\n    prob_no_match = 1\n    for n in range(2, N+1):\n        if prob_no_match > 0.5:\n            prob_no_match = prob_no_match * (N - (n-1))/N\n        else:\n            return n-1",
    "id": "868c0f8c813443a4856bc4189540b914",
    "idx": 46,
    "time": "2021-02-04T03:14:19.715Z",
    "type": "execution"
   },
   {
    "id": "868c0f8c813443a4856bc4189540b914",
    "time": "2021-02-04T03:14:19.865Z",
    "type": "completion"
   },
   {
    "code": "tipping_point(365)",
    "id": "8c8b8751f77f499cb5c1969903f440e5",
    "idx": 48,
    "time": "2021-02-04T03:14:21.363Z",
    "type": "execution"
   },
   {
    "id": "8c8b8751f77f499cb5c1969903f440e5",
    "time": "2021-02-04T03:14:21.495Z",
    "type": "completion"
   },
   {
    "code": "#solution\ntipping_point(687)",
    "id": "bbd4e88681ca483980a90012518158e6",
    "idx": 51,
    "time": "2021-02-04T03:14:23.426Z",
    "type": "execution"
   },
   {
    "id": "bbd4e88681ca483980a90012518158e6",
    "time": "2021-02-04T03:14:23.555Z",
    "type": "completion"
   },
   {
    "code": "#solution\ntipping_point(2**16)",
    "id": "2ab238ad03a044fd950268be53fe4430",
    "idx": 54,
    "time": "2021-02-04T03:14:25.036Z",
    "type": "execution"
   },
   {
    "id": "2ab238ad03a044fd950268be53fe4430",
    "time": "2021-02-04T03:14:25.153Z",
    "type": "completion"
   },
   {
    "code": "#solution\ntipping_point(2**32)",
    "id": "2c6accf0f1c44276822f9ce070b802d1",
    "idx": 57,
    "time": "2021-02-04T03:14:26.926Z",
    "type": "execution"
   },
   {
    "id": "2c6accf0f1c44276822f9ce070b802d1",
    "time": "2021-02-04T03:14:27.053Z",
    "type": "completion"
   },
   {
    "id": "2c6accf0f1c44276822f9ce070b802d1",
    "time": "2021-02-04T03:14:27.053Z",
    "type": "completion"
   },
   {
    "code": "#solution\ndef approx_tipping_point(N):\n    return np.ceil( (-2*N * np.log(0.5)) ** 0.5 )",
    "id": "2a8390867532435b8a550924314758ef",
    "idx": 61,
    "time": "2021-02-04T03:14:29.682Z",
    "type": "execution"
   },
   {
    "id": "2a8390867532435b8a550924314758ef",
    "time": "2021-02-04T03:14:29.860Z",
    "type": "completion"
   },
   {
    "code": "approx_tipping_point(365), approx_tipping_point(687), approx_tipping_point(2**16)",
    "id": "2fb24f6d52aa41bb863c57ec41081e5c",
    "idx": 63,
    "time": "2021-02-04T03:14:32.131Z",
    "type": "execution"
   },
   {
    "id": "2fb24f6d52aa41bb863c57ec41081e5c",
    "time": "2021-02-04T03:14:32.274Z",
    "type": "completion"
   },
   {
    "code": "#solution\napprox_tipping_point(2**128)",
    "id": "966d81c292a1470180df36014e5eb10e",
    "idx": 66,
    "time": "2021-02-04T03:14:34.131Z",
    "type": "execution"
   },
   {
    "id": "966d81c292a1470180df36014e5eb10e",
    "time": "2021-02-04T03:14:34.296Z",
    "type": "completion"
   },
   {
    "code": "#solution\nN = 365\n\n\"\"\" Distribution of M_1 \"\"\"\n\n# Array of possible values, in terms of N\npossible_vals_M1 = np.arange(2, N+2)\n\n# Carefully ... An array of the corresponding probabilities, in terms of N and the array all_different\nmatching_time_probs = np.append(-np.diff(all_different), all_different.item(N-1))",
    "id": "b8d098dbb5dd4b3e89f3d6b4c6f9eb42",
    "idx": 84,
    "time": "2021-02-04T03:14:42.481Z",
    "type": "execution"
   },
   {
    "id": "b8d098dbb5dd4b3e89f3d6b4c6f9eb42",
    "time": "2021-02-04T03:14:42.628Z",
    "type": "completion"
   },
   {
    "code": "len(possible_vals_M1), len(matching_time_probs), sum(matching_time_probs)",
    "id": "ef9d2c4a6b564ebaa536ac7273611262",
    "idx": 86,
    "time": "2021-02-04T03:14:43.650Z",
    "type": "execution"
   },
   {
    "id": "ef9d2c4a6b564ebaa536ac7273611262",
    "time": "2021-02-04T03:14:43.803Z",
    "type": "completion"
   },
   {
    "code": "#solution\ndist_M1 = Table().values(possible_vals_M1).probabilities(matching_time_probs)\n\nPlot(dist_M1)\n\n# labels\nplt.xlabel('$M_1$')\nplt.title('Distribution of $M_1$');",
    "id": "70ab310a571c4d5ab2815cb5e848f071",
    "idx": 89,
    "time": "2021-02-04T03:14:46.540Z",
    "type": "execution"
   },
   {
    "code": "truncated_dist_M1 = dist_M1.take(np.arange(100))\n\nPlot(truncated_dist_M1)\n\nplt.xlabel('$M_1$')\nplt.title('Distribution of $M_1$');",
    "id": "4b1b4e2789e94c518a638320785bf3f4",
    "idx": 91,
    "time": "2021-02-04T03:14:47.651Z",
    "type": "execution"
   },
   {
    "id": "70ab310a571c4d5ab2815cb5e848f071",
    "time": "2021-02-04T03:14:47.771Z",
    "type": "completion"
   },
   {
    "id": "4b1b4e2789e94c518a638320785bf3f4",
    "time": "2021-02-04T03:14:48.359Z",
    "type": "completion"
   },
   {
    "code": "#solution\n\"\"\"\nBy 4a, P(no matches among n people) = P(D_n) = P(M_1 > n).\nSo P(at least one match among n people) = 1 - P(D_n) = P(M_1 <= n).\nThat crosses 50% at n=23.\n\"\"\"\n\nmedian_365 = 23",
    "id": "1f15df369dd840308e6f706385831374",
    "idx": 95,
    "time": "2021-02-04T03:14:50.119Z",
    "type": "execution"
   },
   {
    "id": "1f15df369dd840308e6f706385831374",
    "time": "2021-02-04T03:14:50.249Z",
    "type": "completion"
   },
   {
    "code": "event_4e = np.arange(median_365 + 1)\n\nPlot(truncated_dist_M1, event=event_4e)\n\nplt.xlabel('$M_1$')\nplt.title('Event {$M_1 \\leq median$}');",
    "id": "59f34fa3ca944204aac24f6490a93ceb",
    "idx": 97,
    "time": "2021-02-04T03:14:52.790Z",
    "type": "execution"
   },
   {
    "id": "59f34fa3ca944204aac24f6490a93ceb",
    "time": "2021-02-04T03:14:53.364Z",
    "type": "completion"
   },
   {
    "code": "dist_M1.prob_event(event_4e)",
    "id": "11d0549d20ae40098e6dbd40829ccd69",
    "idx": 98,
    "time": "2021-02-04T03:14:53.871Z",
    "type": "execution"
   },
   {
    "id": "11d0549d20ae40098e6dbd40829ccd69",
    "time": "2021-02-04T03:14:54.022Z",
    "type": "completion"
   },
   {
    "code": "#solution\nN = 365 \n\n# Array of possible values of M2, in terms of N\n\npossible_vals_M2 = np.arange(3, N+3)",
    "id": "5799da833059458f8911fcf05134c49d",
    "idx": 105,
    "time": "2021-02-04T03:14:58.839Z",
    "type": "execution"
   },
   {
    "id": "5799da833059458f8911fcf05134c49d",
    "time": "2021-02-04T03:14:58.991Z",
    "type": "completion"
   },
   {
    "code": "#solution\n# P(M_1 = 15)\n\np_m1_15 = matching_time_probs.item(13)\n\n# P(M_1 = 15, M_2 = 20)\n\np_m1_15_m2_20 = p_m1_15 * ((365-14)/365) * ((365-15)/365) * ((365-16)/365) * ((365-17)/365) * (18/365)\n\np_m1_15, p_m1_15_m2_20",
    "id": "be2760922a734849822bd1f4924ae560",
    "idx": 108,
    "time": "2021-02-04T03:15:01.077Z",
    "type": "execution"
   },
   {
    "id": "be2760922a734849822bd1f4924ae560",
    "time": "2021-02-04T03:15:01.207Z",
    "type": "completion"
   },
   {
    "code": "#solution\ndef joint_probs(i, j):\n    N = 365\n    if j > i:\n        d = j-i\n        diffs = (N - np.arange(i-1, i-1 + d-1)) / N\n        return matching_time_probs.item(i-2) * np.prod(diffs) * (j-2)/N\n    else:\n        return 0",
    "id": "44106ceef2df46d8a76e64f468b240a8",
    "idx": 111,
    "time": "2021-02-04T03:15:03.366Z",
    "type": "execution"
   },
   {
    "id": "44106ceef2df46d8a76e64f468b240a8",
    "time": "2021-02-04T03:15:03.488Z",
    "type": "completion"
   },
   {
    "code": "joint_probs(20, 15), joint_probs(15, 20)",
    "id": "219416f6398742c993c5f1980e8027eb",
    "idx": 113,
    "time": "2021-02-04T03:15:06.012Z",
    "type": "execution"
   },
   {
    "id": "219416f6398742c993c5f1980e8027eb",
    "time": "2021-02-04T03:15:06.133Z",
    "type": "completion"
   },
   {
    "code": "#solution\na = 1/365\nb = 1/365**2\nc = 1/365**3\n\n# P(M_1 = 2, M_2 = 3)\np_M1_2_M2_3 = b              # enter one of a, b, c\n\np_M1_2_M2_3, joint_probs(2, 3)",
    "id": "e222759bc6304e7288e42fbbc523037e",
    "idx": 116,
    "time": "2021-02-04T03:15:07.966Z",
    "type": "execution"
   },
   {
    "id": "e222759bc6304e7288e42fbbc523037e",
    "time": "2021-02-04T03:15:08.103Z",
    "type": "completion"
   },
   {
    "code": "#solution\njt_M1_M2 = Table().values('M1', possible_vals_M1, 'M2', possible_vals_M2).probability_function(joint_probs)\njt_M1_M2",
    "id": "facdc080496c44898003308d7926588a",
    "idx": 119,
    "time": "2021-02-04T03:15:09.824Z",
    "type": "execution"
   },
   {
    "code": "marginal_M1 = jt_M1_M2.marginal_dist('M1')\n\nPlot(marginal_M1)\n\nplt.xlabel('$M_1$')\nplt.title('Distribution of $M_1$');",
    "id": "6a2f3786300d43b88dd42efb73bbcda9",
    "idx": 121,
    "time": "2021-02-04T03:15:12.344Z",
    "type": "execution"
   },
   {
    "id": "facdc080496c44898003308d7926588a",
    "time": "2021-02-04T03:15:14.093Z",
    "type": "completion"
   },
   {
    "code": "#solution\nmarginal_M2 = jt_M1_M2.marginal_dist('M2')\n\nPlot(marginal_M2)\n\nplt.xlabel('$M_2$')\nplt.title('Distribution of $M_2$');",
    "id": "0f9d1b155bf54870b445624849e23799",
    "idx": 124,
    "time": "2021-02-04T03:15:14.634Z",
    "type": "execution"
   },
   {
    "id": "6a2f3786300d43b88dd42efb73bbcda9",
    "time": "2021-02-04T03:15:15.490Z",
    "type": "completion"
   },
   {
    "code": "Plot(truncated_dist_M1)\n\nplt.xlabel('$M_1$')\nplt.title('Distribution of $M_1$');",
    "id": "d6934aa1574a42cdadcbeab0250701f4",
    "idx": 126,
    "time": "2021-02-04T03:15:16.136Z",
    "type": "execution"
   },
   {
    "id": "0f9d1b155bf54870b445624849e23799",
    "time": "2021-02-04T03:15:16.463Z",
    "type": "completion"
   },
   {
    "id": "d6934aa1574a42cdadcbeab0250701f4",
    "time": "2021-02-04T03:15:16.851Z",
    "type": "completion"
   },
   {
    "code": "marginal_M2 = jt_M1_M2.marginal_dist('M2')\nmarginal_M2",
    "id": "256c050ed2bb4238ae0488fec0df8b6e",
    "idx": 128,
    "time": "2021-02-04T03:15:19.523Z",
    "type": "execution"
   },
   {
    "id": "256c050ed2bb4238ae0488fec0df8b6e",
    "time": "2021-02-04T03:15:19.662Z",
    "type": "completion"
   },
   {
    "code": "truncated_dist_M2 = marginal_M2.take(np.arange(100))\nPlot(truncated_dist_M2)\n\nplt.xlabel('$M_2$')\nplt.title('Distribution of $M_2$');",
    "id": "91794372816c472e80b43c886634971f",
    "idx": 129,
    "time": "2021-02-04T03:15:19.872Z",
    "type": "execution"
   },
   {
    "id": "91794372816c472e80b43c886634971f",
    "time": "2021-02-04T03:15:20.470Z",
    "type": "completion"
   },
   {
    "code": "Plots('M1', truncated_dist_M1, 'M2', truncated_dist_M2)",
    "id": "9fb4908256414016b9d73da49dbcae00",
    "idx": 131,
    "time": "2021-02-04T03:15:23.224Z",
    "type": "execution"
   },
   {
    "id": "9fb4908256414016b9d73da49dbcae00",
    "time": "2021-02-04T03:15:24.009Z",
    "type": "completion"
   },
   {
    "code": "#solution\n# P(X = Y)\n\ndef indicator_equal(i, j):\n    return i == j-i\n\njt_M1_M2.event(indicator_equal, 'M1', 'M2');",
    "id": "9d6b760bc2234f4f9722ee7df31eb29c",
    "idx": 145,
    "time": "2021-02-04T03:15:29.467Z",
    "type": "execution"
   },
   {
    "code": "#solution\n# P(X > Y)\n\ndef indicator_X_greater(i, j):\n    return i > j-i\n\njt_M1_M2.event(indicator_X_greater, 'M1', 'M2');",
    "id": "98ce60111c044b14a0cd345a4827f05a",
    "idx": 146,
    "time": "2021-02-04T03:15:29.830Z",
    "type": "execution"
   },
   {
    "id": "9d6b760bc2234f4f9722ee7df31eb29c",
    "time": "2021-02-04T03:15:30.000Z",
    "type": "completion"
   },
   {
    "code": "#solution\n# P(X < Y)\n\ndef indicator_Y_greater(i, j):\n    return i < j-i\n\njt_M1_M2.event(indicator_Y_greater, 'M1', 'M2');",
    "id": "9797512ced324acb9acdcf8d6d3afd57",
    "idx": 147,
    "time": "2021-02-04T03:15:30.139Z",
    "type": "execution"
   },
   {
    "id": "98ce60111c044b14a0cd345a4827f05a",
    "time": "2021-02-04T03:15:31.815Z",
    "type": "completion"
   },
   {
    "id": "9797512ced324acb9acdcf8d6d3afd57",
    "time": "2021-02-04T03:15:32.299Z",
    "type": "completion"
   }
  ],
  "kernelspec": {
   "display_name": "Python 3 (ipykernel)",
   "language": "python",
   "name": "python3"
  },
  "language_info": {
   "codemirror_mode": {
    "name": "ipython",
    "version": 3
   },
   "file_extension": ".py",
   "mimetype": "text/x-python",
   "name": "python",
   "nbconvert_exporter": "python",
   "pygments_lexer": "ipython3",
   "version": "3.11.13"
  },
  "number_of_pagebreaks": 0
 },
 "nbformat": 4,
 "nbformat_minor": 4
}
