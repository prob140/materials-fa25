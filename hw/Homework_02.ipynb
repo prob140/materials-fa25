{
 "cells": [
  {
   "cell_type": "markdown",
   "metadata": {
    "#question": false,
    "#solution": false,
    "#staff": false,
    "#student": false
   },
   "source": [
    "<table align=\"left\" style=\"border-style: hidden\" class=\"table\"> <tr><td class=\"col-md-2\"><img style=\"float: left; width: 200px; height: 200px;\" src=\"../logo.png\" alt=\"Data 140 Logo\" style=\"width: 120px;\"/></td><td><div align=\"left\"><h3 style=\"margin-top: 0;\">Probability for Data Science</h3><h4 style=\"margin-top: 20px;\">UC Berkeley, Fall 2025</h4><p>Alexander Strang</p>CC BY-NC-SA 4.0</div></td></tr></table><!-- not in pdf -->\n",
    "\n",
    "This content is protected and may not be shared, uploaded, or distributed."
   ]
  },
  {
   "cell_type": "code",
   "execution_count": null,
   "metadata": {
    "#question": false,
    "#solution": false,
    "#staff": false,
    "#student": false
   },
   "outputs": [],
   "source": [
    "from prob140 import *\n",
    "from datascience import *\n",
    "import numpy as np\n",
    "from scipy import special\n",
    "\n",
    "import matplotlib.pyplot as plt\n",
    "%matplotlib inline\n",
    "import matplotlib\n",
    "matplotlib.style.use('fivethirtyeight')"
   ]
  },
  {
   "cell_type": "markdown",
   "metadata": {
    "#question": false,
    "#solution": false,
    "#staff": false,
    "#student": false
   },
   "source": [
    "# Homework 2 (Due Monday, September 8th at 5 PM) #"
   ]
  },
  {
   "cell_type": "markdown",
   "metadata": {
    "#question": false,
    "#solution": false,
    "#staff": false,
    "#student": true
   },
   "source": [
    "### Instructions\n",
    "\n",
    "Your homeworks will generally have two components: a written portion and a portion that also involves code.  Written work should be completed on paper, and coding questions should be done in the notebook. Start the work for the written portions of each section on a new page. You are welcome to $\\LaTeX$ your answers to the written portions, but staff will not be able to assist you with $\\LaTeX$ related issues. \n",
    "\n",
    "It is your responsibility to ensure that both components of the lab are submitted completely and properly to Gradescope. **Make sure to assign each page of your pdf to the correct question. Refer to the bottom of the notebook for submission instructions.**"
   ]
  },
  {
   "cell_type": "markdown",
   "metadata": {
    "#question": false,
    "#solution": false,
    "#staff": false,
    "#student": true
   },
   "source": [
    "### How to Do Your Homework ###\n",
    "The point of homework is for you to try your hand at using what you've learned in class. The steps to follow:\n",
    "\n",
    "- Go to lecture and sections, and also go over the relevant text sections before starting on the homework. This will remind you what was covered in class, and the text will typically contain examples not covered in lecture. The weekly Study Guide will list what you should read.\n",
    "- Work on some of the practice problems before starting on the homework.\n",
    "- Attempt the homework problems by yourself with the text, section work, and practice materials all at hand. Sometimes the week's lab will help as well. The two steps above will help this step go faster and be more fruitful.\n",
    "- At this point, seek help if you need it. Don't ask how to do the problem — ask how to get started, or for a nudge to get you past where you are stuck. Always say what you have already tried. That helps us help you more effectively.\n",
    "- For a good measure of your understanding, keep track of the fraction of the homework you can do by yourself or with minimal help. It's a better measure than your homework score, and only you can measure it."
   ]
  },
  {
   "cell_type": "markdown",
   "metadata": {
    "#question": false,
    "#solution": false,
    "#staff": false,
    "#student": true
   },
   "source": [
    "### Rules for Homework ###\n",
    "- Every answer should contain a calculation or reasoning. For example, a calculation such as $(1/3)(0.8) + (2/3)(0.7)$ or `sum([(1/3)*0.8, (2/3)*0.7])`is fine without further explanation or simplification. If we want you to simplify, we'll ask you to. But just ${5 \\choose 2}$ by itself is not fine; write \"we want any 2 out of the 5 frogs and they can appear in any order\" or whatever reasoning you used. Reasoning can be brief and abbreviated, e.g. \"product rule\" or \"not mutually exclusive.\"\n",
    "- You may consult others (see \"How to Do Your Homework\" above) but you must write up your own answers using your own words, notation, and sequence of steps.\n",
    "- We'll be using Gradescope. You must submit the homework according to the instructions at the end of homework set."
   ]
  },
  {
   "cell_type": "markdown",
   "metadata": {
    "#question": false,
    "#solution": false,
    "#staff": false,
    "#student": false
   },
   "source": [
    "\\newpage"
   ]
  },
  {
   "cell_type": "markdown",
   "metadata": {
    "#question": true,
    "#solution": false,
    "#staff": false,
    "#student": false
   },
   "source": [
    "## 1. Combining Proportions ##\n",
    "\n",
    "The Pew Research Foundation is a \"nonpartisan fact tank\" that conducts numerous careful surveys both nationally and internationally. The data below are from various Pew surveys in 2018 and 2019.\n",
    "\n",
    "Remember the advice to draw diagrams. For the arithmetic, you can use the cell below the question.\n",
    "\n",
    "**a)** In 2018, the adult population of the US was about 8.5 times the adult population of Canada. The percent of adults who didn't own a cell phone was 25% in Canada and only 6% in the US. Suppose you had picked one person at random from the combined adult population in the US and Canada in 2018. Pick the correct option below; if you pick (iii), fill in the blank with the chance.\n",
    "\n",
    "Given that the selected person didn't own a cell phone, the chance that the person was from the US is\n",
    "\n",
    "(i) $\\dfrac{6}{6+25} \\approx \\dfrac{1}{5}$\n",
    "\n",
    "(ii) not possible to find based on the information given\n",
    "\n",
    "(iii) neither of the above; the chance is equal to $\\underline{~~~~~~~~~~~~~~~~~~}$\n",
    "\n",
    "**b)** In 2019, the Pew Foundation surveyed US adults to ask if they had read books in print or digital formats in the past 12 months. Of the surveyed adults,\n",
    "- 1% did not respond\n",
    "- 27% responded that they had not read a book in any format in the past 12 months\n",
    "- 65% responded that they had read a print book in the past 12 months\n",
    "- 35% responded that they had read a digital book in the past 12 months\n",
    "\n",
    "Suppose you picked one of the surveyed adults at random. Find the chance that the selected person responded that they had read both a print book and a digital book in the past 12 months, if it is possible to find it based on the information given. If this is not possible, explain why not.\n",
    "\n",
    "**c)** The bar chart below summarizes some other results from the survey in Part **b**. For example, among the surveyed adults who were 50+ years old, 31% had not read a book in any format in the past 12 months.\n",
    "\n",
    "Suppose one of the surveyed adults was picked at random. Answer the following question if it's possible to do so *based on the bar chart alone*. If it's not possible, explain why not. You can assume that everyone's age was recorded in completed years, and that adults are defined as people aged 18+. \n",
    "\n",
    "Given that the selected person had not read a book in any format in the past 12 months, what is the chance that the person was in the 18-49 age group?\n",
    "\n",
    "<img src=\"hw2_q1chart.png\" width=\"200\"/>"
   ]
  },
  {
   "cell_type": "code",
   "execution_count": null,
   "metadata": {
    "#question": false,
    "#solution": false,
    "#staff": false,
    "#student": true
   },
   "outputs": [],
   "source": [
    "# calculations for Ex 1\n",
    "..."
   ]
  },
  {
   "cell_type": "markdown",
   "metadata": {
    "#question": false,
    "#solution": false,
    "#staff": false,
    "#student": false
   },
   "source": [
    "\\newpage"
   ]
  },
  {
   "cell_type": "markdown",
   "metadata": {
    "#question": true,
    "#solution": false,
    "#staff": false,
    "#student": false
   },
   "source": [
    "## 2. Two IID Random Variables ##\n",
    "\n",
    "Let $N \\ge 5$ be a fixed integer. Let $X_1$ and $X_2$ be independent and identically distributed (i.i.d.) random variables, and let $P(X_1 = i) = p_i$ where $0 \\le i \\le N$ and $\\sum_{i=0}^N p_i = 1$.\n",
    "\n",
    "Provide (with justification) expressions for the following probabilities, in terms of $p_0, p_1, \\ldots, p_N$.\n",
    "\n",
    "**a)** $P(X_1 = X_2)$\n",
    "\n",
    "**b)** $P(X_1 = X_2 \\mid X_1 > 3)$\n",
    "\n",
    "**c)** $P(X_1 \\ne X_2 \\mid X_1 > 3)$\n",
    "\n",
    "**d)** $P(X_1 + X_2 \\le N \\mid X_1 = 2)$\n",
    "\n",
    "**e)** $P(X_1 + X_2 \\le N \\mid X_1 > 2)$"
   ]
  },
  {
   "cell_type": "markdown",
   "metadata": {
    "#question": false,
    "#solution": false,
    "#staff": false,
    "#student": false
   },
   "source": [
    "\\newpage"
   ]
  },
  {
   "cell_type": "markdown",
   "metadata": {
    "#question": true,
    "#solution": false,
    "#staff": false,
    "#student": false
   },
   "source": [
    "## 3. Extrema and Tails ##\n",
    "\n",
    "**THIS IS A HUGELY IMPORTANT EXERCISE** or I wouldn't be using bold all-caps. Make sure you understand the logic and especially the suggested visualization; that's what's going to be applied later. Note also how the logic can be applied or modified in variations of the initial problem setting.\n",
    "\n",
    "The maximum and minimum of a random sample of numbers are called the *extrema* of the sample. Distributions of extrema are best described using the left or right hand tail probabilities. In this exercise you will see how.\n",
    "\n",
    "Fix a positive integer $n$. In data science, a *sample* is a sequence of random variables $X_1, X_2, \\ldots, X_n$ defined on an outcome space, and $n$ is called the *sample size*. \n",
    "\n",
    "Suppose our sample is positive integer valued, as follows. Fix a positive integer $N$ and suppose each $X_i$ has possible values in the set $\\{1, 2, 3, \\ldots, N\\}$. \n",
    "\n",
    "Let $V_n = \\min\\{X_1, X_2, \\ldots, X_n\\}$ be the *sample minimum* and let $W_n = \\max\\{X_1, X_2, \\ldots, X_n\\}$ be the *sample maximum*.\n",
    "\n",
    "As you know from Data 8, each of $V_n$ and $W_n$ is a [statistic](https://inferentialthinking.com/chapters/10/3/Empirical_Distribution_of_a_Statistic.html#statistic). \n",
    "\n",
    "**a) [Describing an event]** The event that a sample maximum is \"small\" is straightforward to describe in terms of the individual elements of the sample. To see this, fill in the blank with an appropriate mathematical symbol or English phrase, making no further assumptions about the random variables involved. Justify your answer.\n",
    "\n",
    "Fix an integer $k$ such that $1 \\le k \\le N$. The event \"$W_n \\le k$\" is the same as the event \"each of $X_1, X_2, \\ldots, X_n$ is $\\underline{~~~~~~~~~~~~~~~~~~~~~~~~~~~~~~~~~~~~~~~~~~~~~~~~~~~~~~~} k$\".\n",
    "\n",
    "It might help to draw the number line, mark the integers 1 through $N$, and put a special mark on the integer $k$. For the maximum to be at or to the left of $k$, where do all the $X$'s have to be?\n",
    "\n",
    "**b) [Using a probability model]** In Data 8, you found empirical distributions of statistics by simulation. Now you will start finding the exact distribution of a statistic by probability theory. For this, you need a probability model. Let's start with a simple one. Suppose $n$ draws are made at random with replacement from the numbers $\\{1, 2, 3, \\ldots, N\\}$. Let $X_i$ be the number that appears on the $i$th draw. Use Part **a** to find $P(W_n \\le k)$, for each $k$ in the range $1 \\le k \\le N$.\n",
    "\n",
    "**c) [Using tail probabilities]** Continue under the assumptions in Part **b**. Use your sketch in Part **a** to express the event $\\{W_n = k\\}$ in terms of any subset of the events $\\{W_n \\le 1\\}, \\{W_n \\le 2\\}, \\ldots, \\{W_n \\le N\\}$. Use this and Part **b** to find $P(W_n = k)$ for $1 \\le k \\le N$ and to show algebraically that $\\sum_{k=1}^N P(W_n = k) = 1$. Congratulations – you have found the distribution of the sample maximum for a sample of independent uniform draws from the integers 1 through $N$. \n",
    "\n",
    "**d) [Changing the statistic]** Continue under the assumptions in Part **b**. Modify Parts **a** through **c** to find the distribution of the sample minimum $V_n$, as follows. For the event that the sample minimum is \"large\", fill in the blank with an appropriate mathematical symbol or English phrase. \n",
    "\n",
    "The event \"$V_n > k$\" is the same as the event \"each of $X_1, X_2, \\ldots, X_n$ is $\\underline{~~~~~~~~~~~~~~~~~~~~~~~~~~~~~~~~~~~~~~~~~~~~~~~~~~~~~~~} k$\".\n",
    "\n",
    "Use this observation and the ideas of the previous parts to find $P(V_n = k)$ for $1 \\le k \\le N$.\n",
    "\n",
    "**e) [Changing the probability model]** Now assume $N > n$ and suppose $X_1, X_2, \\ldots, X_n$ are draws made at random without replacement from the numbers $\\{1, 2, 3, \\ldots, N\\}$. Apply the logic in Parts **a** and **c** to find the distribution of the sample maximum $W_n$.\n",
    "\n",
    "In this part is is very important that you think carefully about the possible values of $W_n$ before calculating chances."
   ]
  },
  {
   "cell_type": "markdown",
   "metadata": {
    "#question": false,
    "#solution": false,
    "#staff": false,
    "#student": false
   },
   "source": [
    "\\newpage"
   ]
  },
  {
   "cell_type": "markdown",
   "metadata": {
    "#question": true,
    "#solution": false,
    "#staff": false,
    "#student": false
   },
   "source": [
    "## 4. Counting Categories ##\n",
    "In each part below, remember to **explain your answer. Don't just write down a formula.** You don't have to provide decimal answers. \n",
    "\n",
    "**Note:** See the video right at the bottom of [Section 5.4](http://prob140.org/textbook/content/Chapter_05/04_Sampling_Without_Replacement.html) (below the last Quick Check) for an effective approach.\n",
    "\n",
    "A population consists of 6 individuals in each of 4 categories $A$, $B$, $C$, and $D$. A simple random sample of 12 individuals is chosen from the population.\n",
    "\n",
    "**a)** Find the chance that the sample contains equal numbers of individuals in the four categories.\n",
    "\n",
    "**b)** Find the chance that the sample contains 5 individuals in one category, 4 in another, 2 in a third, and 1 in the remaining category.\n",
    "\n",
    "**c)** Find the chance that the sample contains 4 individuals in each of two categories, 3 individuals in another, and 1 in the remaining category.\n",
    "\n",
    "**d)** Find the chance that the sample contains all 6 individuals in one category and equal numbers in the other three.\n",
    "\n"
   ]
  },
  {
   "cell_type": "markdown",
   "metadata": {
    "#question": false,
    "#solution": false,
    "#staff": false,
    "#student": false
   },
   "source": [
    "\\newpage"
   ]
  },
  {
   "cell_type": "markdown",
   "metadata": {
    "#question": true,
    "#solution": false,
    "#staff": false,
    "#student": false
   },
   "source": [
    "## 5. Breakout Rooms ##\n",
    "\n",
    "Among 24 students in a Zoom meeting, there are six each of freshmen, sophomores, juniors, and seniors. The 24 students are split at random into four breakout rooms of six students each.\n",
    "\n",
    "**a)** What is the distribution of the number of freshmen in Breakout Room 1? **Why?**\n",
    "\n",
    "**b)** What is the joint distribution of the numbers of freshmen in Breakout Rooms 1 and 4? **Why?**\n",
    "\n",
    "[Note: You don't have to write out a joint distribution table. A more compact way is to provide a formula. Remember to specify the possible values appropriately.]\n",
    "\n",
    "**c)** What is the chance that in at least one of the breakout rooms all the students are in the same year? **Explain your calculation.**"
   ]
  },
  {
   "cell_type": "markdown",
   "metadata": {
    "#question": false,
    "#solution": false,
    "#staff": false,
    "#student": false
   },
   "source": [
    "\\newpage"
   ]
  },
  {
   "cell_type": "markdown",
   "metadata": {
    "#question": false,
    "#solution": false,
    "#staff": false,
    "#student": true
   },
   "source": [
    "## 6. Exact Value or Bound ##\n",
    "In each part below, find the exact value of the probability if it is possible to do so with the information given. If it is not possible, provide the best lower and upper bounds you can. **Explain your choices.**\n",
    "\n",
    "**a)** the chance that at least one of 10 flights at an airport is late, if each flight at the airport has a 1% chance of being late\n",
    "\n",
    "**b)** the chance that not all suits appear in a bridge hand of 13 cards dealt at random without replacement from a standard deck \n",
    "\n",
    "[A standard deck consists of 13 cards in each of 4 suits, making 52 cards in all.]\n",
    "\n",
    "**c)** the chance that all $s$ office hours slots are selected, if each of $g \\ge s$ GSIs selects one of the $s$ slots at random without being influenced by the choices of others\n",
    "\n",
    "**d)** the chance that it rains every day next week if the daily chances of rain are given by\n",
    "\n",
    "|Sun|Mon|Tue|Wed|Thu|Fri|Sat|\n",
    "|-|-|-|-|-|-|-|\n",
    "|$$0.9$$|$$0.95$$|$$0.95$$|$$0.9$$|$$0.9$$|$$0.85$$|$$0.8$$|"
   ]
  },
  {
   "cell_type": "markdown",
   "metadata": {
    "#question": false,
    "#solution": false,
    "#staff": false,
    "#student": true
   },
   "source": [
    "## Submission Instructions ##\n",
    "\n",
    "Many assignments throughout the course will have a written portion and a code portion. Please follow the directions below to properly submit both portions.\n",
    "\n",
    "### Written Portion ###\n",
    "*  Scan all the pages into a PDF. You can use any scanner or a phone using applications such as CamScanner. Please **DO NOT** simply take pictures using your phone. \n",
    "* Please start a new page for each question. If you have already written multiple questions on the same page, you can crop the image in CamScanner or fold your page over (the old-fashioned way). This helps expedite grading.\n",
    "* It is your responsibility to check that all the work on all the scanned pages is legible.\n",
    "* If you used $\\LaTeX$ to do the written portions, you do not need to do any scanning; you can just download the whole notebook as a PDF via LaTeX.\n",
    "\n",
    "### Code Portion ###\n",
    "* Save your notebook using `File > Save Notebook`.\n",
    "* Generate a PDF file using `File > Save and Export Notebook As > PDF`. This might take a few seconds and will automatically download a PDF version of this notebook.\n",
    "    * If you have issues, please post a follow-up on the general Homework 2 Ed thread.\n",
    "    \n",
    "### Submitting ###\n",
    "* Combine the PDFs from the written and code portions into one PDF. [Here](https://smallpdf.com/merge-pdf) is a useful tool for doing so. \n",
    "* Submit the assignment to Homework 2 on Gradescope. \n",
    "* **Make sure to assign each page of your pdf to the correct question.**\n",
    "* **It is your responsibility to verify that all of your work shows up in your final PDF submission.**\n",
    "\n",
    "If you are having difficulties scanning, uploading, or submitting your work, please read the [Ed Thread](https://edstem.org/us/courses/83687/discussion/6882870) on this topic and post a follow-up on the general Homework 2 Ed thread.\n",
    "\n",
    "## **We will not grade assignments which do not have pages selected for each question.** ##"
   ]
  }
 ],
 "metadata": {
  "checksums": [
   "a1a82caefddab3ed19eafda071da591d",
   "510b88354262c31ba9053a0c05b44859",
   "b77c868d50653cb94307f911fcd514a7",
   "024dbc638596e7796117dc407fe24b3f",
   "e8b146b4314b9ff8608529b2cf2e2d0e",
   "5e382e32f1416ebdbc3411b88ff3b874",
   "562505d567faf02dfc9388e81e89d07b",
   "5d5ce05500d7665e7f49452726c33b6f",
   "10c5fe7a4b2e0bd8789ef370d9134bf9",
   "562505d567faf02dfc9388e81e89d07b",
   "1bc96ca6676486488c6dcdbc7e8bf9af",
   "562505d567faf02dfc9388e81e89d07b",
   "ae2b1faa898bfb1792ec41eda80a46d9",
   "562505d567faf02dfc9388e81e89d07b",
   "d2c25967daa82b0bba2c545e1810068f",
   "562505d567faf02dfc9388e81e89d07b",
   "a5ca9642e6babfd669294d640b34ea10",
   "562505d567faf02dfc9388e81e89d07b",
   "695cd521fc6fcb18e1c0ea517adc213c",
   "e79f05ce797602847b1e67bcce0da6f3"
  ],
  "kernelspec": {
   "display_name": "Python 3 (ipykernel)",
   "language": "python",
   "name": "python3"
  },
  "language_info": {
   "codemirror_mode": {
    "name": "ipython",
    "version": 3
   },
   "file_extension": ".py",
   "mimetype": "text/x-python",
   "name": "python",
   "nbconvert_exporter": "python",
   "pygments_lexer": "ipython3",
   "version": "3.11.13"
  },
  "number_of_pagebreaks": 0
 },
 "nbformat": 4,
 "nbformat_minor": 4
}
