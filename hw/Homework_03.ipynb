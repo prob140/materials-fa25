{
 "cells": [
  {
   "cell_type": "markdown",
   "metadata": {
    "#question": false,
    "#solution": false,
    "#staff": false,
    "#student": false
   },
   "source": [
    "<table align=\"left\" style=\"border-style: hidden\" class=\"table\"> <tr><td class=\"col-md-2\"><img style=\"float: left; width: 200px; height: 200px;\" src=\"../logo.png\" alt=\"Data 140 Logo\" style=\"width: 120px;\"/></td><td><div align=\"left\"><h3 style=\"margin-top: 0;\">Probability for Data Science</h3><h4 style=\"margin-top: 20px;\">UC Berkeley, Fall 2025</h4><p>Alexander Strang</p>CC BY-NC-SA 4.0</div></td></tr></table><!-- not in pdf -->\n",
    "\n",
    "This content is protected and may not be shared, uploaded, or distributed."
   ]
  },
  {
   "cell_type": "code",
   "execution_count": null,
   "metadata": {
    "#question": false,
    "#solution": false,
    "#staff": false,
    "#student": false
   },
   "outputs": [],
   "source": [
    "from prob140 import *\n",
    "from datascience import *\n",
    "import numpy as np\n",
    "from scipy import special\n",
    "from scipy import stats\n",
    "\n",
    "import matplotlib.pyplot as plt\n",
    "%matplotlib inline\n",
    "import matplotlib\n",
    "matplotlib.style.use('fivethirtyeight')"
   ]
  },
  {
   "cell_type": "markdown",
   "metadata": {
    "#question": false,
    "#solution": false,
    "#staff": false,
    "#student": false
   },
   "source": [
    "# Homework 3 (Due Monday, September 15th at 5 PM) #"
   ]
  },
  {
   "cell_type": "markdown",
   "metadata": {
    "#question": false,
    "#solution": false,
    "#staff": false,
    "#student": true
   },
   "source": [
    "### Instructions\n",
    "\n",
    "Your homeworks will generally have two components: a written portion and a portion that also involves code.  Written work should be completed on paper, and coding questions should be done in the notebook. Start the work for the written portions of each section on a new page. You are welcome to $\\LaTeX$ your answers to the written portions, but staff will not be able to assist you with $\\LaTeX$ related issues. \n",
    "\n",
    "It is your responsibility to ensure that both components of the lab are submitted completely and properly to Gradescope. **Make sure to assign each page of your pdf to the correct question. Refer to the bottom of the notebook for submission instructions.**"
   ]
  },
  {
   "cell_type": "markdown",
   "metadata": {
    "#question": false,
    "#solution": false,
    "#staff": false,
    "#student": true
   },
   "source": [
    "### How to Do Your Homework ###\n",
    "The point of homework is for you to try your hand at using what you've learned in class. The steps to follow:\n",
    "\n",
    "- Go to lecture and sections, and also go over the relevant text sections before starting on the homework. This will remind you what was covered in class, and the text will typically contain examples not covered in lecture. The weekly Study Guide will list what you should read.\n",
    "- Work on some of the practice problems before starting on the homework.\n",
    "- Attempt the homework problems by yourself with the text, section work, and practice materials all at hand. Sometimes the week's lab will help as well. The two steps above will help this step go faster and be more fruitful.\n",
    "- At this point, seek help if you need it. Don't ask how to do the problem — ask how to get started, or for a nudge to get you past where you are stuck. Always say what you have already tried. That helps us help you more effectively.\n",
    "- For a good measure of your understanding, keep track of the fraction of the homework you can do by yourself or with minimal help. It's a better measure than your homework score, and only you can measure it."
   ]
  },
  {
   "cell_type": "markdown",
   "metadata": {
    "#question": false,
    "#solution": false,
    "#staff": false,
    "#student": true
   },
   "source": [
    "### Rules for Homework ###\n",
    "- Every answer should contain a calculation or reasoning. For example, a calculation such as $(1/3)(0.8) + (2/3)(0.7)$ or `sum([(1/3)*0.8, (2/3)*0.7])`is fine without further explanation or simplification. If we want you to simplify, we'll ask you to. But just ${5 \\choose 2}$ by itself is not fine; write \"we want any 2 out of the 5 frogs and they can appear in any order\" or whatever reasoning you used. Reasoning can be brief and abbreviated, e.g. \"product rule\" or \"not mutually exclusive.\"\n",
    "- You may consult others (see \"How to Do Your Homework\" above) but you must write up your own answers using your own words, notation, and sequence of steps.\n",
    "- We'll be using Gradescope. You must submit the homework according to the instructions at the end of homework set."
   ]
  },
  {
   "cell_type": "markdown",
   "metadata": {
    "#question": true,
    "#solution": false,
    "#staff": false,
    "#student": false
   },
   "source": [
    "## 1. College Degrees\n",
    "\n",
    "In the U.S., 38% of adults aged 25 and over have a four-year college degree.\n",
    "\n",
    "In each part below, write a math expression for the chance and provide a brief justification. Please use the appropriate summation, not \"...\". Then use the appropriate code cell to find the numerical value of the chance, using `stats.binom.pmf`, `stats.binom.cdf`, and arithmetic. See [the textbook](http://prob140.org/textbook/content/Chapter_06/01_Binomial_Distribution.html#binomial-probabilities-in-python) for a reference. The `stats` library of `scipy` has been imported in the top cell of this notebook.\n",
    "\n",
    "In what follows, we will use the term *population* to mean US adults aged 25 and over, and a *successful draw* to mean a draw that results in a person who has a four-year college degree.\n",
    "\n",
    "**a)** Suppose I draw from the population at random with replacement. What is the chance that at least one-third of my first 30 draws are successful?\n",
    "\n",
    "**b)** Suppose I draw from the population at random with replacement, till 10 of my draws are successful. What is the chance that I draw at most 30 times? How is this answer related to the answer in Part **a**?\n",
    "\n",
    "**c)** Suppose my friend and I both draw from the population at random with replacement, independently of each other. Suppose I make 30 draws and my friend makes 20 draws. What is the chance that I get more successful draws than my friend?"
   ]
  },
  {
   "cell_type": "code",
   "execution_count": null,
   "metadata": {
    "#question": false,
    "#solution": false,
    "#staff": false,
    "#student": true
   },
   "outputs": [],
   "source": [
    "# Answer to a (you can use more than one line of code)\n",
    "\n",
    "..."
   ]
  },
  {
   "cell_type": "code",
   "execution_count": null,
   "metadata": {
    "#question": false,
    "#solution": false,
    "#staff": false,
    "#student": true
   },
   "outputs": [],
   "source": [
    "# Answer to b (you can use more than one line of code)\n",
    "\n",
    "..."
   ]
  },
  {
   "cell_type": "code",
   "execution_count": null,
   "metadata": {
    "#question": false,
    "#solution": false,
    "#staff": false,
    "#student": true
   },
   "outputs": [],
   "source": [
    "# Answer to c (you can use more than one line of code)\n",
    "\n",
    "..."
   ]
  },
  {
   "cell_type": "markdown",
   "metadata": {
    "#question": false,
    "#solution": false,
    "#staff": false,
    "#student": false
   },
   "source": [
    "\\newpage"
   ]
  },
  {
   "cell_type": "markdown",
   "metadata": {
    "#question": true,
    "#solution": false,
    "#staff": false,
    "#student": false
   },
   "source": [
    "\n",
    "## 2. Binomial Sums\n",
    "\n",
    "**(a)** Fix $p \\in (0, 1)$. Let $X$ have the binomial $(n, p)$ distribution and let $Y$ have the binomial $(m, p)$ distribution independent of $X$. Let $S = X+Y$. What is the distribution of $S$, and why? If it's a famous one, provide the name and parameters.\n",
    "\n",
    "**(b)** Let $X$ have the binomial $(6, 1/3)$ distribution and let $Y$ have the binomial $(12, 1/4)$ distribution independent of $X$. Now the chance of success is different in the two sets of trials. Let $S = X+Y$. Confirm that the distribution of $S$ is *not* binomial, in the following steps.\n",
    "\n",
    "- In Line (i) of the cell below, fill in the blank in the comment with the possible values of $S$.\n",
    "- In Line (ii), fill in the blank with a numerical expression for $P(S = 18)$ using what you know about $X$ and $Y$.\n",
    "- In Line (iii), fill in the blank with a numerical expression for $P(S = 1)$ using what you know about $X$ and $Y$. You can use `\\` for a linebreak in the expression if you wish, but it's not necessary.\n",
    "- If the distribution of $S$ were binomial, it would be binomial $(n, p)$ for some $n$ and $p$. In Line (iv), fill in the blank with the numerical value of what $n$ would have to be.\n",
    "- In Line (v), fill in the blank with the numerical value of $p$ would have to be. [Use (ii) and (iv).]\n",
    "\n",
    "Now run the cell to see that $S$ is not binomial."
   ]
  },
  {
   "cell_type": "code",
   "execution_count": null,
   "metadata": {
    "#question": false,
    "#solution": false,
    "#staff": false,
    "#student": true
   },
   "outputs": [],
   "source": [
    "\n",
    "#(i) The possible values of S are ...\n",
    "\n",
    "# (ii) P(S = 18)\n",
    "prob_S_equals_18 = ...\n",
    "\n",
    "# (iii) P(S = 1)\n",
    "prob_S_equals_1 = ...\n",
    "\n",
    "# (iv) If S were binomial, this would be the number of trials.\n",
    "n = ...\n",
    "\n",
    "# (v) If S were binomial, this would be the chance of success.\n",
    "p = ... \n",
    "\n",
    "# (vi) The binomial (n, p) probability of the value 1\n",
    "binomial_n_p_prob_of_1 = stats.binom.pmf(1, n, p)\n",
    "\n",
    "# Compare (iii) and (vi)\n",
    "prob_S_equals_1, binomial_n_p_prob_of_1"
   ]
  },
  {
   "cell_type": "markdown",
   "metadata": {
    "#question": false,
    "#solution": false,
    "#staff": false,
    "#student": false
   },
   "source": [
    "**(c)** As in Part **(b)**, let $X$ have the binomial $(6, 1/3)$ distribution, let $Y$ have the binomial $(12, 1/4)$ distribution independent of $X$, and let $S = X+Y$. Write a formula for $P(S = k)$ for $0 \\le k \\le n$ where $n$ is the value you found in Line (iv) of Part **(b)**. It is a good idea to partition the event $\\{S = k\\}$ according to the values of $X$.\n",
    "\n",
    "**(d)** For $S$ as in Part **(c)**, fill in the blank in the cell below to compute its distribution. Enter *just one expression*, not multiple lines of code. \n",
    "\n",
    "The last line of the cell compares your value of $P(S = 1)$ computed in this cell and your value of $P(S = 1)$ computed in Line (iii) of Part **(b)**. They should be the same.\n",
    "\n",
    "Here are some helpful code examples:\n",
    "\n",
    "- `stats.binom.pmf([0, 1, 2], 10, 0.5)` produces an array of the binomial $(10, 0.5)$ probabilities of the values 0, 1, and 2 in that order, and `stats.binom.pmf([2, 1, 0], 10, 0.5)` produces the same array but in the reverse order.\n",
    "- If `k` in a non-negative integer, `np.arange(k, -1, -1)` is the array $k, k-1, \\ldots, 0$.\n",
    "- `stats.binom.pmf(np.arange(101), 10, 0.5)` produces an array of all the binomial $(10, 0.5)$ probabilities followed by a whole bunch of zeros. In general if you give `pmf` impossible values, it correctly says the probabilities are zero."
   ]
  },
  {
   "cell_type": "code",
   "execution_count": null,
   "metadata": {
    "#question": false,
    "#solution": false,
    "#staff": false,
    "#student": true
   },
   "outputs": [],
   "source": [
    "\n",
    "# The possible values of S\n",
    "possible_values_S = ...\n",
    "\n",
    "# Array of the probabilities of those values\n",
    "dist_S_probs = np.array([])  # Start with an empty array.\n",
    "\n",
    "# Fill the array with P(S = k) for each possible k.\n",
    "for k in possible_values_S:\n",
    "    prob_S_equals_k = ...\n",
    "    dist_S_probs = np.append(dist_S_probs, prob_S_equals_k)\n",
    "\n",
    "# Compare with your answer to Line (iii) of Part (b)\n",
    "dist_S_probs.item(1), prob_S_equals_1"
   ]
  },
  {
   "cell_type": "markdown",
   "metadata": {
    "#question": false,
    "#solution": false,
    "#staff": false,
    "#student": false
   },
   "source": [
    "Run the two cells below. The first plots the distribution of $S$. The second compares that with the \"would have to be\" binomial distribution you identified in Part (b). They are similar but not the same."
   ]
  },
  {
   "cell_type": "code",
   "execution_count": null,
   "metadata": {
    "#question": false,
    "#solution": false,
    "#staff": false,
    "#student": false
   },
   "outputs": [],
   "source": [
    "dist_S = Table().values(possible_values_S).probabilities(dist_S_probs)\n",
    "Plot(dist_S)\n",
    "plt.xticks(np.arange(0, 19, 2))\n",
    "plt.title('Distribution of $S$');"
   ]
  },
  {
   "cell_type": "code",
   "execution_count": null,
   "metadata": {
    "#question": false,
    "#solution": false,
    "#staff": false,
    "#student": true
   },
   "outputs": [],
   "source": [
    "\n",
    "# Uses n and p from Lines (iv) and (v) of Part (b)\n",
    "dist_wrong_binom = Table().values(possible_values_S).probabilities(\n",
    "    stats.binom.pmf(possible_values_S, n, p))\n",
    "Plots('Distribution of $S$', dist_S, 'Binomial (n, p)', dist_wrong_binom)\n",
    "plt.xticks(np.arange(0, 19, 2))\n",
    "plt.title('Distribution of $S$ versus binomial (n, p) from Part (b)');"
   ]
  },
  {
   "cell_type": "markdown",
   "metadata": {
    "#question": false,
    "#solution": false,
    "#staff": false,
    "#student": false
   },
   "source": [
    "\\newpage"
   ]
  },
  {
   "cell_type": "markdown",
   "metadata": {
    "#question": false,
    "#solution": false,
    "#staff": false,
    "#student": false
   },
   "source": [
    "## 3. Poisson Mode\n",
    "\n",
    "[This is Exercise 6 in Chapter 7 but it is done using the methods of Chapter 6. Yes, you have the final answer, but here you have to derive that answer. Follow the derivation of the binomial mode in [Section 6.5.4](http://prob140.org/textbook/content/Chapter_06/05_Odds_Ratios.html#mode-of-the-binomial). The algebra for the Poisson is easier than for the binomial.]\n",
    "\n",
    "Use consecutive odds ratios to find the mode of the Poisson $(\\mu)$ distribution. Be careful about the case where $\\mu$ is an integer.\n",
    "\n",
    "For reference, if $X$ has the Poisson $\\mu$ distribution then $P(X = k) = e^{-\\mu}\\frac{\\mu^{k}}{k!}$ for $k = 0, 1, 2, \\ldots$."
   ]
  },
  {
   "cell_type": "markdown",
   "metadata": {
    "#question": false,
    "#solution": false,
    "#staff": false,
    "#student": false
   },
   "source": [
    "\\newpage"
   ]
  },
  {
   "cell_type": "markdown",
   "metadata": {
    "#question": true,
    "#solution": false,
    "#staff": false,
    "#student": false
   },
   "source": [
    "## 4. Poisson Approximation at Both Ends ##\n",
    "Consider $n$ independent Bernoulli $(p)$ trials.\n",
    "\n",
    "**a)** Fill in the blanks with names of distributions along with parameters in parentheses: If $n = 1000$ and $p=0.003$, the distribution of the number of successes is exactly $\\underline{~~~~~~~~~~~~~~~~~~~~~~~~~~~}$ $(\\underline{~~~~~~~~~~~~ })$ and approximately $\\underline{~~~~~~~~~~~~~~~~~~~~~~ }$ $(\\underline{~~~~~~~~~~~~ })$.\n",
    "\n",
    "**b)** Let $n$ be large and let $p$ be close to 1. Find a Poisson approximation to $p_k$ (the chance of $k$ successes) by an appropriate use of the Poisson approximation to the binomial derived in the textbook. \n",
    "\n",
    "**Note:** Don't try to derive a new limit from scratch. Just use the limit already derived in the textbook, but appropriately.\n",
    "\n",
    "**c)** Plot the probability histogram of the binomial (1000, 0.997) distribution, and overlay your Poisson approximation from part (b). For computing Poisson probabilities, see the [textbook](http://prob140.org/textbook/content/Chapter_06/06_Law_of_Small_Numbers.html#poisson-probabilities-in-python). Please don't plot the entire range of the binomial. Choose an informative range of values on the horizontal axis."
   ]
  },
  {
   "cell_type": "code",
   "execution_count": null,
   "metadata": {
    "#question": false,
    "#solution": false,
    "#staff": false,
    "#student": true
   },
   "outputs": [],
   "source": [
    "# Answer to c\n",
    "\n",
    "n = 1000\n",
    "p = 0.997\n",
    "\n",
    "k = ...                # array of possible values\n",
    "binomial_probs = ...   # array of exact binomial probabilities\n",
    "\n",
    "def poisson_approximation_pmf(j):\n",
    "    \"\"\"Returns the Poisson approximation to the\n",
    "    exact binomial probability of j successes\"\"\"\n",
    "    return ...\n",
    "\n",
    "exact_binomial = Table().values(k).probabilities(...)\n",
    "poisson_approximation = Table().values(k).probability_function(...)\n",
    "\n",
    "Plots(...)\n",
    "plt.xlim(..., ...)"
   ]
  },
  {
   "cell_type": "markdown",
   "metadata": {
    "#question": false,
    "#solution": false,
    "#staff": false,
    "#student": false
   },
   "source": [
    "\\newpage"
   ]
  },
  {
   "cell_type": "markdown",
   "metadata": {
    "#question": true,
    "#solution": false,
    "#staff": false,
    "#student": false
   },
   "source": [
    "## 5. Related Distribution Families ##\n",
    "\n",
    "As you have seen, the binomial distribution is closely related to the hypergeometric and Poisson distributions. Here are two more connections.\n",
    "\n",
    "**Note:** Both of the connections arise via conditioning. For an example of how to go about finding the conditional distribution of one random variable given the value of another, study the steps in [Section 6.2.3](http://prob140.org/textbook/content/Chapter_06/02_Examples.html#conditional-distribution-of-the-trial-that-results-in-the-first-success) of the textbook.  \n",
    "\n",
    "**a)** Let $1 \\le n < m$ be integers. Consider $m$ i.i.d. Bernoulli trials with probability of $p$ of success on each trial. Let $X$ be the number of successes in the first $n$ trials and let $S$ be the number of successes in all $m$ trials. \n",
    "\n",
    "For a fixed integer $s$, find the conditional distribution of $X$ given $S=s$. Identify it as one of the famous ones and provide the parameters in terms of $m$, $n$, and $s$.\n",
    "\n",
    "**b)** Let $X$ and $Y$ be independent random variables such that $X$ has the Poisson $(\\mu)$ distribution and $Y$ has the Poisson $(\\lambda)$ distribution. \n",
    "\n",
    "For a fixed integer $n$, find the conditional distribution of $X$ given  $X+Y = n$. Identify it as one of the famous ones and provide the parameters in terms of $n$, $\\mu$, and $\\lambda$."
   ]
  },
  {
   "cell_type": "markdown",
   "metadata": {
    "#question": false,
    "#solution": false,
    "#staff": false,
    "#student": false
   },
   "source": [
    "\\newpage"
   ]
  },
  {
   "cell_type": "markdown",
   "metadata": {
    "#question": true,
    "#solution": false,
    "#staff": false,
    "#student": false
   },
   "source": [
    "## 6. Counting Categories\n",
    "\n",
    "In each part below, write the probabilities as math expressions. You don't have to find any numerical values. But please make sure there are **no infinite sums** in your answers. For distributions, you can just provide names and parameters if they are applicable. \n",
    "\n",
    "**a)** 18 dice are rolled. Let $X$ be the number of times the face with 1 spot appears. Let $Y$ be the number of times a multiple of 3 appears. What is the joint distribution of $X$ and $Y$? [Be careful about the possible values of the pair $(X, Y)$.]\n",
    "\n",
    "**b)** 18 dice are rolled. Find the chance that two of the faces appear 5 times each, another two faces appear 3 times each, and the remaining two faces appear 1 time each.\n",
    "\n",
    "**c)** Repeat Part **b** in the case when the number of dice rolled isn't 18 but is instead a random number that has the Poisson $(18)$ distribution.\n",
    "\n",
    "**d)** As in Part **c**, roll a random number of dice, where the random number has a Poisson $(18)$ distribution. Don't touch any die that shows the face with six spots. If there are any other dice (that is, if there are dice that don't show six spots), roll those dice one more time. Then stop.\n",
    "\n",
    "Let $S$ be the total number of dice that show the face with six spots when you stop. Find the distribution of $S$."
   ]
  },
  {
   "cell_type": "markdown",
   "metadata": {
    "#question": false,
    "#solution": false,
    "#staff": false,
    "#student": false
   },
   "source": [
    "\\newpage"
   ]
  },
  {
   "cell_type": "markdown",
   "metadata": {
    "#question": false,
    "#solution": false,
    "#staff": false,
    "#student": true
   },
   "source": [
    "## Submission Instructions ##\n",
    "\n",
    "Many assignments throughout the course will have a written portion and a code portion. Please follow the directions below to properly submit both portions.\n",
    "\n",
    "### Written Portion ###\n",
    "*  Scan all the pages into a PDF. You can use any scanner or a phone using applications such as CamScanner. Please **DO NOT** simply take pictures using your phone. \n",
    "* Please start a new page for each question. If you have already written multiple questions on the same page, you can crop the image in CamScanner or fold your page over (the old-fashioned way). This helps expedite grading.\n",
    "* It is your responsibility to check that all the work on all the scanned pages is legible.\n",
    "* If you used $\\LaTeX$ to do the written portions, you do not need to do any scanning; you can just download the whole notebook as a PDF via LaTeX.\n",
    "\n",
    "### Code Portion ###\n",
    "* Save your notebook using `File > Save Notebook`.\n",
    "* Generate a PDF file using `File > Save and Export Notebook As > PDF`. This might take a few seconds and will automatically download a PDF version of this notebook.\n",
    "    * If you have issues, please post a follow-up on the general Homework 3 Ed thread.\n",
    "    \n",
    "### Submitting ###\n",
    "* Combine the PDFs from the written and code portions into one PDF. [Here](https://smallpdf.com/merge-pdf) is a useful tool for doing so. \n",
    "* Submit the assignment to Homework 3 on Gradescope. \n",
    "* **Make sure to assign each page of your pdf to the correct question.**\n",
    "* **It is your responsibility to verify that all of your work shows up in your final PDF submission.**\n",
    "\n",
    "If you are having difficulties scanning, uploading, or submitting your work, please read the [Ed Thread](https://edstem.org/us/courses/83687/discussion/6882870) on this topic and post a follow-up on the general Homework 3 Ed thread.\n",
    "\n",
    "## **We will not grade assignments which do not have pages selected for each question.** ##"
   ]
  },
  {
   "cell_type": "markdown",
   "metadata": {
    "#question": false,
    "#solution": false,
    "#staff": false,
    "#student": false
   },
   "source": []
  }
 ],
 "metadata": {
  "checksums": [
   "a1a82caefddab3ed19eafda071da591d",
   "26cf3073460ca0df82d45e09bb63d4b0",
   "ca99f90ed8ecc506282fea059b3b12ca",
   "024dbc638596e7796117dc407fe24b3f",
   "e8b146b4314b9ff8608529b2cf2e2d0e",
   "5e382e32f1416ebdbc3411b88ff3b874",
   "3b2b8f124ec607cff2ad0db5b26006aa",
   "8eed5e2c9dc5ace88e05d58d3e04f813",
   "70dc241ef0cc35bf20f5867f2d155dd3",
   "5756c6500123ad891697fbfb99c4d438",
   "562505d567faf02dfc9388e81e89d07b",
   "2a4b667a8566ebbcdc890e95cbf4e548",
   "1304dac523fe92e7b13a081f2153abd7",
   "70e81de6b90e0970c24790e6aec9f7ee",
   "1be73d6cdd519ed25f18e577248c7f8f",
   "58489c657b7c31283ecc3cda5c96bbfb",
   "d8d6587044cf1f342f8ef3830a07c40c",
   "a053e0d3bd39a08c9798f11d75b982af",
   "562505d567faf02dfc9388e81e89d07b",
   "82ea40eb6eacc4d2459c04f8ae3bc02f",
   "562505d567faf02dfc9388e81e89d07b",
   "5a08026b25d9edec3f904134772247d4",
   "00fe876e4c18b149b77b29ddd510470c",
   "562505d567faf02dfc9388e81e89d07b",
   "29d95014210c8b0821258924a02cad6e",
   "562505d567faf02dfc9388e81e89d07b",
   "9f3aaa5192411f29f9b3833925a8f7c2",
   "562505d567faf02dfc9388e81e89d07b",
   "6ea7e953fcaee9f838bbfcbf17228296",
   "d41d8cd98f00b204e9800998ecf8427e"
  ],
  "kernelspec": {
   "display_name": "Python 3 (ipykernel)",
   "language": "python",
   "name": "python3"
  },
  "language_info": {
   "codemirror_mode": {
    "name": "ipython",
    "version": 3
   },
   "file_extension": ".py",
   "mimetype": "text/x-python",
   "name": "python",
   "nbconvert_exporter": "python",
   "pygments_lexer": "ipython3",
   "version": "3.11.13"
  },
  "number_of_pagebreaks": 0
 },
 "nbformat": 4,
 "nbformat_minor": 4
}
