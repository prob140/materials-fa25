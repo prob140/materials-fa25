{
 "cells": [
  {
   "cell_type": "markdown",
   "id": "3254146f",
   "metadata": {
    "#question": false,
    "#solution": false,
    "#staff": false,
    "#student": false
   },
   "source": [
    "<table align=\"left\" style=\"border-style: hidden\" class=\"table\"> <tr><td class=\"col-md-2\"><img style=\"float: left; width: 200px; height: 200px;\" src=\"../logo.png\" alt=\"Data 140 Logo\" style=\"width: 120px;\"/></td><td><div align=\"left\"><h3 style=\"margin-top: 0;\">Probability for Data Science</h3><h4 style=\"margin-top: 20px;\">UC Berkeley, Fall 2025</h4><p>Alexander Strang</p>CC BY-NC-SA 4.0</div></td></tr></table><!-- not in pdf -->\n",
    "\n",
    "This content is protected and may not be shared, uploaded, or distributed."
   ]
  },
  {
   "cell_type": "markdown",
   "id": "c25d23f4-18e8-4d87-9a5c-798bdc6a2a63",
   "metadata": {
    "#question": false,
    "#solution": false,
    "#staff": false,
    "#student": false
   },
   "source": [
    "# Homework 7 (Due Monday, October 13th at 5 PM) #"
   ]
  },
  {
   "cell_type": "markdown",
   "id": "492a0c2a-82c6-4f34-8b12-452513281800",
   "metadata": {
    "#question": false,
    "#solution": false,
    "#staff": false,
    "#student": true
   },
   "source": [
    "### Instructions\n",
    "\n",
    "Your homeworks will generally have two components: a written portion and a portion that also involves code.  Written work should be completed on paper, and coding questions should be done in the notebook. Start the work for the written portions of each section on a new page. You are welcome to $\\LaTeX$ your answers to the written portions, but staff will not be able to assist you with $\\LaTeX$ related issues. \n",
    "\n",
    "It is your responsibility to ensure that both components of the lab are submitted completely and properly to Gradescope. **Make sure to assign each page of your pdf to the correct question. Refer to the bottom of the notebook for submission instructions.**"
   ]
  },
  {
   "cell_type": "markdown",
   "id": "56a2013f-fb4c-4e2f-a24c-f5e5eef4a08c",
   "metadata": {
    "#question": false,
    "#solution": false,
    "#staff": false,
    "#student": true
   },
   "source": [
    "### How to Do Your Homework ###\n",
    "The point of homework is for you to try your hand at using what you've learned in class. The steps to follow:\n",
    "\n",
    "- Go to lecture and sections, and also go over the relevant text sections before starting on the homework. This will remind you what was covered in class, and the text will typically contain examples not covered in lecture. The weekly Study Guide will list what you should read.\n",
    "- Work on some of the practice problems before starting on the homework.\n",
    "- Attempt the homework problems by yourself with the text, section work, and practice materials all at hand. Sometimes the week's lab will help as well. The two steps above will help this step go faster and be more fruitful.\n",
    "- At this point, seek help if you need it. Don't ask how to do the problem — ask how to get started, or for a nudge to get you past where you are stuck. Always say what you have already tried. That helps us help you more effectively.\n",
    "- For a good measure of your understanding, keep track of the fraction of the homework you can do by yourself or with minimal help. It's a better measure than your homework score, and only you can measure it."
   ]
  },
  {
   "cell_type": "markdown",
   "id": "1790a421-0859-4bf7-b036-d5a0a168d2d5",
   "metadata": {
    "#question": false,
    "#solution": false,
    "#staff": false,
    "#student": true
   },
   "source": [
    "### Rules for Homework ###\n",
    "- Every answer should contain a calculation or reasoning. For example, a calculation such as $(1/3)(0.8) + (2/3)(0.7)$ or `sum([(1/3)*0.8, (2/3)*0.7])`is fine without further explanation or simplification. If we want you to simplify, we'll ask you to. But just ${5 \\choose 2}$ by itself is not fine; write \"we want any 2 out of the 5 frogs and they can appear in any order\" or whatever reasoning you used. Reasoning can be brief and abbreviated, e.g. \"product rule\" or \"not mutually exclusive.\"\n",
    "- You may consult others (see \"How to Do Your Homework\" above) but you must write up your own answers using your own words, notation, and sequence of steps.\n",
    "- We'll be using Gradescope. You must submit the homework according to the instructions at the end of homework set."
   ]
  },
  {
   "cell_type": "markdown",
   "id": "76932803-f6e8-43f9-8239-d6cc339104bb",
   "metadata": {
    "#question": true,
    "#solution": false,
    "#staff": false,
    "#student": false
   },
   "source": [
    "## 1. Bounds ##\n",
    "A random variable $X$, not necessarily non-negative, has $E(X) = 20$ and $SD(X) = 4$. In each part below **find the best bounds you can** based on the information given.\n",
    "\n",
    "**a)** Find upper and lower bounds for $P(0 < X < 40)$.\n",
    "\n",
    "**b)** Find upper and lower bounds for $P(10 < X < 40)$.\n",
    "\n",
    "**c)** Find an upper bound for $P(X \\ge 40)$.\n",
    "\n",
    "**d)** Find an upper bound for $P(X^2 \\ge 900)$."
   ]
  },
  {
   "cell_type": "markdown",
   "id": "af93fe2e-0704-49d4-b073-c23195025584",
   "metadata": {
    "#question": false,
    "#solution": false,
    "#staff": false,
    "#student": false
   },
   "source": [
    "\\newpage"
   ]
  },
  {
   "cell_type": "markdown",
   "id": "10519fd2-0f76-41ca-9e6a-5bf000fbc5fb",
   "metadata": {
    "#question": true,
    "#solution": false,
    "#staff": false,
    "#student": false
   },
   "source": [
    "## 2. Bias and Variance ##\n",
    "Consider a probabilistic model that has a numerical parameter $\\theta$. A \"probabilistic model\" is just a set of assumptions about randomness. Let the random variable $T$ be an estimator of $\\theta$. Frequently, $T$ is a statistic based on a random sample.\n",
    "\n",
    "The *bias* of $T$ is defined as\n",
    "\n",
    "$$\n",
    "B_\\theta (T) ~ = ~ E_\\theta (T) - \\theta,\n",
    "$$\n",
    "\n",
    "where the subscript $\\theta$ reminds us that $\\theta$ is the true value of the parameter. Note that $B_\\theta(T)$ is a real-valued function of $\\theta$, not a random variable.\n",
    "\n",
    "Recall that $T$ is an unbiased estimator of $\\theta$ if $E_\\theta(T) = \\theta$, that is, if $B_\\theta(T) = 0$. But in general, estimators are biased.\n",
    "\n",
    "The *mean squared error* of the estimator $T$ is\n",
    "\n",
    "$$\n",
    "MSE_\\theta (T) ~ = ~ E_\\theta \\big{(} (T - \\theta)^2 \\big{)}\n",
    "$$\n",
    "\n",
    "Follow the calculation in [Section 12.2](http://prob140.org/textbook/content/Chapter_12/02_Prediction_and_Estimation.html) of the textbook to show the *bias-variance decomposition* given by\n",
    "\n",
    "$$\n",
    "MSE_\\theta (T) ~ = ~ Var_\\theta(T) + B_\\theta^2(T)\n",
    "$$\n",
    "\n",
    "Note that the square in the bias term makes sense. Bias has the same units as $T$, whereas the MSE and variance are in the square of those units."
   ]
  },
  {
   "cell_type": "markdown",
   "id": "07fd3abd-9297-4714-9351-714867bd455e",
   "metadata": {
    "#question": false,
    "#solution": false,
    "#staff": false,
    "#student": false
   },
   "source": [
    "\\newpage"
   ]
  },
  {
   "cell_type": "markdown",
   "id": "b2f2b7c8-a358-43e1-b97c-5d8c857e68cf",
   "metadata": {
    "#question": true,
    "#solution": false,
    "#staff": false,
    "#student": false
   },
   "source": [
    "## 3. Correlation ##\n",
    "The *correlation coefficient* between random variables $X$ and $Y$ is defined as\n",
    "\n",
    "$$\n",
    "r(X, Y) ~ = \\frac{Cov(X, Y)}{SD(X)SD(Y)}\n",
    "$$\n",
    "\n",
    "It is called the correlation, for short. The definition explains why $X$ and $Y$ are called *uncorrelated* if $Cov(X, Y) = 0$.\n",
    "\n",
    "**a)** Let $X^*$ be $X$ in standard units and let $Y^*$ be $Y$ in standard units. Check that\n",
    "\n",
    "$$\n",
    "r(X, Y) = E(X^*Y^*)\n",
    "$$\n",
    "\n",
    "This is the random variable version of the Data 8 definition of the correlation between two data variables: convert each variable to standard units; multiply each pair; take the mean of the products.\n",
    "\n",
    "**b)** Use the fact that $(X^* + Y^*)^2$ and $(X^* - Y^*)^2$ are non-negative random variables to show that $-1 \\le r(X, Y) \\le 1$.\n",
    "\n",
    "[First find the numerical values of $E(X^*)$ and $E\\left({X^*}^2\\right)$. Then find $E\\left((X^* + Y^*)^2\\right)$.]\n",
    "\n",
    "**c)** Show that if $Y = aX+b$ where $a \\ne 0$, then $r(X, Y)$ is 1 or $-1$ depending on whether the sign of $a$ is positive or negative.\n",
    "\n",
    "**d)** Consider a sequence of i.i.d. Bernoulli $(p)$ trials. For any positive integer $k$ let $X_k$ be the number of successes in trials 1 through $k$. **Use bilinearity** to find $Cov(X_n, X_{n+m})$ and hence find $r(X_n, X_{n+m})$.\n",
    "\n",
    "**e)** Fix $n$ and find the limit of $r(X_n, X_{n+m})$ as $m \\to \\infty$. Explain why the limit is consistent with intuition."
   ]
  },
  {
   "cell_type": "markdown",
   "id": "c3775425-80f8-42e9-9be8-f6f2def929d3",
   "metadata": {
    "#question": false,
    "#solution": false,
    "#staff": false,
    "#student": false
   },
   "source": [
    "\\newpage"
   ]
  },
  {
   "cell_type": "markdown",
   "id": "440ff90f-5848-49f4-9591-afa1a02e3901",
   "metadata": {
    "#question": true,
    "#solution": false,
    "#staff": false,
    "#student": false
   },
   "source": [
    "## 4. Collecting Distinct Values ##\n",
    "\n",
    "In Homework 4 you found the expectation of each of the random variables below. **Go back and see how you did that, and then use the same ideas** to find the variance of each one. \n",
    "\n",
    "For one part you will need the fact that the SD of a geometric $(p)$ random variable is $\\frac{\\sqrt{q}}{p}$ where $q = 1-p$. We haven't proved that as the algebra takes a bit of work. We will prove it later in the course by conditioning.\n",
    "\n",
    "**(a)** A die is rolled $n$ times. Find the variance of number of faces that *do not* appear.\n",
    "\n",
    "**(b)** Use your answer to (a) to find the variance of the number of distinct faces that *do* appear in $n$ rolls of a die.\n",
    "\n",
    "**(c)** Find the variance of the number of times you have to roll a die till you have seen all of the faces."
   ]
  },
  {
   "cell_type": "markdown",
   "id": "05a403fa-0030-4ab2-b7ae-a9b19436a741",
   "metadata": {
    "#question": false,
    "#solution": false,
    "#staff": false,
    "#student": false
   },
   "source": [
    "\\newpage"
   ]
  },
  {
   "cell_type": "markdown",
   "id": "2781a0dd-4fdf-4349-9820-8d64f0a69520",
   "metadata": {
    "#question": true,
    "#solution": false,
    "#staff": false,
    "#student": false
   },
   "source": [
    "## 5. The \"Sample Variance\" ###\n",
    "\n",
    "Let $X_1, X_2, \\ldots, X_n$ be i.i.d. (discrete or continuous), each with mean $\\mu$ and SD $\\sigma$. Let $\\bar{X} = \\frac{1}{n}\\sum_{i=1}^n X_i$ be the sample mean.\n",
    "\n",
    "**(a)** Find $E(\\bar{X})$ and $SD(\\bar{X})$. It's fine to just quote answers derived in class or in the textbook.\n",
    "\n",
    "**(b)** For each $i$, find $Cov(X_i, \\bar{X})$. [Plug in the definition of $\\bar{X}$ and use bilinearity.]\n",
    "\n",
    "**(c)** For each $i$ in the range 1 through $n$, define the *$i$th deviation in the sample* as $D_i = X_i - \\bar{X}$. Find $E(D_i)$ and $Var(D_i)$. [Write the variance as $Cov(D_i, D_i)$, plug in the definition of $D_i$, and use bilinearity.]\n",
    "\n",
    "**(d)** Define the random variable $\\hat{\\sigma}^2$ as\n",
    "$$\n",
    "\\hat{\\sigma}^2 ~ = ~ \\frac{1}{n} \\sum_{i=1}^n D_i^2\n",
    "$$\n",
    "Find $E(\\hat{\\sigma}^2)$.\n",
    "\n",
    "For this random variable, the notation $\\hat{\\sigma}^2$ is pretty standard in statistics. Just think of $\\hat{\\sigma}^2$ as a symbol; it doesn't help to start thinking about the random variable that is its square root.\n",
    "\n",
    "**(e)** Use Part **d** to construct a random variable denoted $S^2$ that is an unbiased estimator of $\\sigma^2$. This random variable $S^2$ is called the *sample variance* and is frequently used in inference."
   ]
  },
  {
   "cell_type": "markdown",
   "id": "c5391342",
   "metadata": {
    "#question": false,
    "#solution": false,
    "#staff": false,
    "#student": true,
    "tags": []
   },
   "source": [
    "## Submission Instructions ##\n",
    "\n",
    "Many assignments throughout the course will have a written portion and a code portion. Please follow the directions below to properly submit both portions.\n",
    "\n",
    "### Written Portion ###\n",
    "*  Scan all the pages into a PDF. You can use any scanner or a phone using applications such as CamScanner. Please **DO NOT** simply take pictures using your phone. \n",
    "* Please start a new page for each question. If you have already written multiple questions on the same page, you can crop the image in CamScanner or fold your page over (the old-fashioned way). This helps expedite grading.\n",
    "* It is your responsibility to check that all the work on all the scanned pages is legible.\n",
    "* If you used $\\LaTeX$ to do the written portions, you do not need to do any scanning; you can just download the whole notebook as a PDF via LaTeX.\n",
    "\n",
    "### Code Portion ###\n",
    "* Save your notebook using `File > Save and Checkpoint`.\n",
    "* Generate a PDF file using `File > Download As > PDF via LaTeX`. This might take a few seconds and will automatically download a PDF version of this notebook.\n",
    "    * If you have issues, please post a follow-up on the general Homework 7 Ed thread.\n",
    "    \n",
    "### Submitting ###\n",
    "* Combine the PDFs from the written and code portions into one PDF. [Here](https://smallpdf.com/merge-pdf) is a useful tool for doing so. \n",
    "* Submit the assignment to Homework 7 on Gradescope. \n",
    "* **Make sure to assign each page of your pdf to the correct question.**\n",
    "* **It is your responsibility to verify that all of your work shows up in your final PDF submission.**\n",
    "\n",
    "If you are having difficulties scanning, uploading, or submitting your work, please read the [Ed Thread](https://edstem.org/us/courses/83687/discussion/6882870) on this topic and post a follow-up on the general Homework 7 Ed thread.\n",
    "\n",
    "\n",
    "## **We will not grade assignments which do not have pages selected for each question.** ##"
   ]
  },
  {
   "cell_type": "code",
   "execution_count": null,
   "id": "ea0b6088-4c06-4dfb-a1f2-18c004903cf9",
   "metadata": {
    "#question": false,
    "#solution": false,
    "#staff": false,
    "#student": false
   },
   "outputs": [],
   "source": []
  }
 ],
 "metadata": {
  "checksums": [
   "a1a82caefddab3ed19eafda071da591d",
   "229b52e4ae357567092b43e197a17083",
   "024dbc638596e7796117dc407fe24b3f",
   "e8b146b4314b9ff8608529b2cf2e2d0e",
   "5e382e32f1416ebdbc3411b88ff3b874",
   "a831f4a784a1ec3d2bea044835660480",
   "562505d567faf02dfc9388e81e89d07b",
   "0555932ebcf5c3e43a4e53a86188bb85",
   "562505d567faf02dfc9388e81e89d07b",
   "7105381c1fe4f6e0a3dcb5e2c1ebb419",
   "562505d567faf02dfc9388e81e89d07b",
   "7c7f451e9d023635b95e962536d4d4d4",
   "562505d567faf02dfc9388e81e89d07b",
   "b04ddbcd36003480bbdfa06b88e028cd",
   "af073be1887700a50afad0757b8f2b04",
   "d41d8cd98f00b204e9800998ecf8427e"
  ],
  "kernelspec": {
   "display_name": "Python 3 (ipykernel)",
   "language": "python",
   "name": "python3"
  },
  "language_info": {
   "codemirror_mode": {
    "name": "ipython",
    "version": 3
   },
   "file_extension": ".py",
   "mimetype": "text/x-python",
   "name": "python",
   "nbconvert_exporter": "python",
   "pygments_lexer": "ipython3",
   "version": "3.11.13"
  },
  "number_of_pagebreaks": 0
 },
 "nbformat": 4,
 "nbformat_minor": 5
}
